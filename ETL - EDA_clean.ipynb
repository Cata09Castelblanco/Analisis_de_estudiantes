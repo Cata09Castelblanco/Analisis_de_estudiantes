{
 "cells": [
  {
   "cell_type": "markdown",
   "metadata": {},
   "source": [
    "Al finalizar este documento, se econtraran recomendaciones de nuevas caracteristicas posibles y justificacion de la eleccion de las mismas"
   ]
  },
  {
   "cell_type": "markdown",
   "metadata": {},
   "source": [
    "Proceso ETL:"
   ]
  },
  {
   "cell_type": "markdown",
   "metadata": {},
   "source": [
    "importacion de librerias:"
   ]
  },
  {
   "cell_type": "code",
   "execution_count": 1,
   "metadata": {},
   "outputs": [],
   "source": [
    "import pandas as pd\n",
    "import numpy as np\n",
    "import datetime\n",
    "import seaborn as sns\n",
    "import matplotlib.pyplot as plt \n",
    "import scipy.stats as stats\n",
    "import uuid"
   ]
  },
  {
   "cell_type": "code",
   "execution_count": 2,
   "metadata": {},
   "outputs": [
    {
     "data": {
      "text/html": [
       "<div>\n",
       "<style scoped>\n",
       "    .dataframe tbody tr th:only-of-type {\n",
       "        vertical-align: middle;\n",
       "    }\n",
       "\n",
       "    .dataframe tbody tr th {\n",
       "        vertical-align: top;\n",
       "    }\n",
       "\n",
       "    .dataframe thead th {\n",
       "        text-align: right;\n",
       "    }\n",
       "</style>\n",
       "<table border=\"1\" class=\"dataframe\">\n",
       "  <thead>\n",
       "    <tr style=\"text-align: right;\">\n",
       "      <th></th>\n",
       "      <th>particion</th>\n",
       "      <th>periodo</th>\n",
       "      <th>nota_final_materia</th>\n",
       "      <th>fecha_mesa_epoch</th>\n",
       "      <th>nombre_examen</th>\n",
       "      <th>nota_parcial</th>\n",
       "      <th>assignment_id</th>\n",
       "      <th>ass_name</th>\n",
       "      <th>ass_created_at</th>\n",
       "      <th>ass_due_at</th>\n",
       "      <th>...</th>\n",
       "      <th>sub_uuid</th>\n",
       "      <th>score</th>\n",
       "      <th>submission_type</th>\n",
       "      <th>s_submitted_at</th>\n",
       "      <th>s_graded_at</th>\n",
       "      <th>s_created_at</th>\n",
       "      <th>user_uuid</th>\n",
       "      <th>course_uuid</th>\n",
       "      <th>course_name</th>\n",
       "      <th>legajo</th>\n",
       "    </tr>\n",
       "  </thead>\n",
       "  <tbody>\n",
       "    <tr>\n",
       "      <th>0</th>\n",
       "      <td>0</td>\n",
       "      <td>1-2022</td>\n",
       "      <td>9.0</td>\n",
       "      <td>NaN</td>\n",
       "      <td>NaN</td>\n",
       "      <td>NaN</td>\n",
       "      <td>NaN</td>\n",
       "      <td>NaN</td>\n",
       "      <td>NaN</td>\n",
       "      <td>NaN</td>\n",
       "      <td>...</td>\n",
       "      <td>NaN</td>\n",
       "      <td>NaN</td>\n",
       "      <td>NaN</td>\n",
       "      <td>NaN</td>\n",
       "      <td>NaN</td>\n",
       "      <td>NaN</td>\n",
       "      <td>13df535e-065c-4593-98ea-5b1e29015b7d</td>\n",
       "      <td>09614210-fce2-48bc-93e3-bc4bd441fe00</td>\n",
       "      <td>Progressive homogeneous structure</td>\n",
       "      <td>834066QFF</td>\n",
       "    </tr>\n",
       "    <tr>\n",
       "      <th>1</th>\n",
       "      <td>1</td>\n",
       "      <td>1-2022</td>\n",
       "      <td>9.0</td>\n",
       "      <td>NaN</td>\n",
       "      <td>NaN</td>\n",
       "      <td>NaN</td>\n",
       "      <td>NaN</td>\n",
       "      <td>NaN</td>\n",
       "      <td>NaN</td>\n",
       "      <td>NaN</td>\n",
       "      <td>...</td>\n",
       "      <td>NaN</td>\n",
       "      <td>NaN</td>\n",
       "      <td>NaN</td>\n",
       "      <td>NaN</td>\n",
       "      <td>NaN</td>\n",
       "      <td>NaN</td>\n",
       "      <td>13df535e-065c-4593-98ea-5b1e29015b7d</td>\n",
       "      <td>09614210-fce2-48bc-93e3-bc4bd441fe00</td>\n",
       "      <td>Progressive homogeneous structure</td>\n",
       "      <td>834066QFF</td>\n",
       "    </tr>\n",
       "    <tr>\n",
       "      <th>2</th>\n",
       "      <td>2</td>\n",
       "      <td>1-2022</td>\n",
       "      <td>9.0</td>\n",
       "      <td>NaN</td>\n",
       "      <td>NaN</td>\n",
       "      <td>NaN</td>\n",
       "      <td>NaN</td>\n",
       "      <td>NaN</td>\n",
       "      <td>NaN</td>\n",
       "      <td>NaN</td>\n",
       "      <td>...</td>\n",
       "      <td>NaN</td>\n",
       "      <td>NaN</td>\n",
       "      <td>NaN</td>\n",
       "      <td>NaN</td>\n",
       "      <td>NaN</td>\n",
       "      <td>NaN</td>\n",
       "      <td>13df535e-065c-4593-98ea-5b1e29015b7d</td>\n",
       "      <td>09614210-fce2-48bc-93e3-bc4bd441fe00</td>\n",
       "      <td>Progressive homogeneous structure</td>\n",
       "      <td>834066QFF</td>\n",
       "    </tr>\n",
       "    <tr>\n",
       "      <th>3</th>\n",
       "      <td>3</td>\n",
       "      <td>1-2022</td>\n",
       "      <td>9.0</td>\n",
       "      <td>NaN</td>\n",
       "      <td>NaN</td>\n",
       "      <td>NaN</td>\n",
       "      <td>NaN</td>\n",
       "      <td>NaN</td>\n",
       "      <td>NaN</td>\n",
       "      <td>NaN</td>\n",
       "      <td>...</td>\n",
       "      <td>NaN</td>\n",
       "      <td>NaN</td>\n",
       "      <td>NaN</td>\n",
       "      <td>NaN</td>\n",
       "      <td>NaN</td>\n",
       "      <td>NaN</td>\n",
       "      <td>13df535e-065c-4593-98ea-5b1e29015b7d</td>\n",
       "      <td>09614210-fce2-48bc-93e3-bc4bd441fe00</td>\n",
       "      <td>Progressive homogeneous structure</td>\n",
       "      <td>834066QFF</td>\n",
       "    </tr>\n",
       "    <tr>\n",
       "      <th>4</th>\n",
       "      <td>4</td>\n",
       "      <td>1-2022</td>\n",
       "      <td>9.0</td>\n",
       "      <td>NaN</td>\n",
       "      <td>NaN</td>\n",
       "      <td>NaN</td>\n",
       "      <td>NaN</td>\n",
       "      <td>NaN</td>\n",
       "      <td>NaN</td>\n",
       "      <td>NaN</td>\n",
       "      <td>...</td>\n",
       "      <td>NaN</td>\n",
       "      <td>NaN</td>\n",
       "      <td>NaN</td>\n",
       "      <td>NaN</td>\n",
       "      <td>NaN</td>\n",
       "      <td>NaN</td>\n",
       "      <td>13df535e-065c-4593-98ea-5b1e29015b7d</td>\n",
       "      <td>09614210-fce2-48bc-93e3-bc4bd441fe00</td>\n",
       "      <td>Progressive homogeneous structure</td>\n",
       "      <td>834066QFF</td>\n",
       "    </tr>\n",
       "  </tbody>\n",
       "</table>\n",
       "<p>5 rows × 24 columns</p>\n",
       "</div>"
      ],
      "text/plain": [
       "   particion periodo  nota_final_materia  fecha_mesa_epoch nombre_examen  \\\n",
       "0          0  1-2022                 9.0               NaN           NaN   \n",
       "1          1  1-2022                 9.0               NaN           NaN   \n",
       "2          2  1-2022                 9.0               NaN           NaN   \n",
       "3          3  1-2022                 9.0               NaN           NaN   \n",
       "4          4  1-2022                 9.0               NaN           NaN   \n",
       "\n",
       "   nota_parcial  assignment_id ass_name  ass_created_at  ass_due_at  ...  \\\n",
       "0           NaN            NaN      NaN             NaN         NaN  ...   \n",
       "1           NaN            NaN      NaN             NaN         NaN  ...   \n",
       "2           NaN            NaN      NaN             NaN         NaN  ...   \n",
       "3           NaN            NaN      NaN             NaN         NaN  ...   \n",
       "4           NaN            NaN      NaN             NaN         NaN  ...   \n",
       "\n",
       "   sub_uuid  score  submission_type s_submitted_at s_graded_at  s_created_at  \\\n",
       "0       NaN    NaN              NaN            NaN         NaN           NaN   \n",
       "1       NaN    NaN              NaN            NaN         NaN           NaN   \n",
       "2       NaN    NaN              NaN            NaN         NaN           NaN   \n",
       "3       NaN    NaN              NaN            NaN         NaN           NaN   \n",
       "4       NaN    NaN              NaN            NaN         NaN           NaN   \n",
       "\n",
       "                              user_uuid                           course_uuid  \\\n",
       "0  13df535e-065c-4593-98ea-5b1e29015b7d  09614210-fce2-48bc-93e3-bc4bd441fe00   \n",
       "1  13df535e-065c-4593-98ea-5b1e29015b7d  09614210-fce2-48bc-93e3-bc4bd441fe00   \n",
       "2  13df535e-065c-4593-98ea-5b1e29015b7d  09614210-fce2-48bc-93e3-bc4bd441fe00   \n",
       "3  13df535e-065c-4593-98ea-5b1e29015b7d  09614210-fce2-48bc-93e3-bc4bd441fe00   \n",
       "4  13df535e-065c-4593-98ea-5b1e29015b7d  09614210-fce2-48bc-93e3-bc4bd441fe00   \n",
       "\n",
       "                         course_name     legajo  \n",
       "0  Progressive homogeneous structure  834066QFF  \n",
       "1  Progressive homogeneous structure  834066QFF  \n",
       "2  Progressive homogeneous structure  834066QFF  \n",
       "3  Progressive homogeneous structure  834066QFF  \n",
       "4  Progressive homogeneous structure  834066QFF  \n",
       "\n",
       "[5 rows x 24 columns]"
      ]
     },
     "execution_count": 2,
     "metadata": {},
     "output_type": "execute_result"
    }
   ],
   "source": [
    "# lectura de archivo:\n",
    "df = pd.read_csv(r'Data/challenge_edMachina.csv', sep=';')\n",
    "df.head()"
   ]
  },
  {
   "cell_type": "code",
   "execution_count": 3,
   "metadata": {},
   "outputs": [],
   "source": [
    "# cambiamos nombre de columnas para mejor lectura y comprension:\n",
    "\n",
    "df.rename(columns= {'particion':'dias_cursado','periodo':'semestre_año','course_name':'nombre_curso','assignment_id': 'id_tarea', 'ass_name': 'nombre_de_la_tarea',\n",
    "                    'ass_created_at':'fecha_creacion_tarea','course_uuid':'id_curso','user_uuid':'id_usuario',\n",
    "                    'ass_due_at':'vencimiento_tarea', 'ass_unlock_at':'apertura_tarea','ass_lock_at':'cierre_tarea',\n",
    "                    'points_possible':'puntos_posibles','ass_name_sub':'nombre_entrega','sub_uuid':'id_entrega_tarea',\n",
    "                    'score':'puntaje', 'submission_type':'formato_entrega', 's_submitted_at':'fecha_entrega','s_graded_at':'fecha_correccion',\n",
    "                    's_created_at':'fecha_creacion_tarea'}, inplace=True) "
   ]
  },
  {
   "cell_type": "code",
   "execution_count": 4,
   "metadata": {},
   "outputs": [
    {
     "data": {
      "text/plain": [
       "Index(['dias_cursado', 'semestre_año', 'nota_final_materia',\n",
       "       'fecha_mesa_epoch', 'nombre_examen', 'nota_parcial', 'id_tarea',\n",
       "       'nombre_de_la_tarea', 'fecha_creacion_tarea', 'vencimiento_tarea',\n",
       "       'apertura_tarea', 'cierre_tarea', 'puntos_posibles', 'nombre_entrega',\n",
       "       'id_entrega_tarea', 'puntaje', 'formato_entrega', 'fecha_entrega',\n",
       "       'fecha_correccion', 'fecha_creacion_tarea', 'id_usuario', 'id_curso',\n",
       "       'nombre_curso', 'legajo'],\n",
       "      dtype='object')"
      ]
     },
     "execution_count": 4,
     "metadata": {},
     "output_type": "execute_result"
    }
   ],
   "source": [
    "# revision de nombres de columnas\n",
    "df.columns"
   ]
  },
  {
   "cell_type": "code",
   "execution_count": 5,
   "metadata": {},
   "outputs": [
    {
     "name": "stdout",
     "output_type": "stream",
     "text": [
      "<class 'pandas.core.frame.DataFrame'>\n",
      "RangeIndex: 196124 entries, 0 to 196123\n",
      "Data columns (total 24 columns):\n",
      " #   Column                Non-Null Count   Dtype  \n",
      "---  ------                --------------   -----  \n",
      " 0   dias_cursado          196124 non-null  int64  \n",
      " 1   semestre_año          196124 non-null  object \n",
      " 2   nota_final_materia    196124 non-null  float64\n",
      " 3   fecha_mesa_epoch      7010 non-null    float64\n",
      " 4   nombre_examen         7010 non-null    object \n",
      " 5   nota_parcial          7010 non-null    float64\n",
      " 6   id_tarea              26061 non-null   float64\n",
      " 7   nombre_de_la_tarea    26061 non-null   object \n",
      " 8   fecha_creacion_tarea  26061 non-null   float64\n",
      " 9   vencimiento_tarea     26061 non-null   float64\n",
      " 10  apertura_tarea        24760 non-null   float64\n",
      " 11  cierre_tarea          25979 non-null   float64\n",
      " 12  puntos_posibles       26061 non-null   float64\n",
      " 13  nombre_entrega        24206 non-null   object \n",
      " 14  id_entrega_tarea      24206 non-null   object \n",
      " 15  puntaje               23876 non-null   float64\n",
      " 16  formato_entrega       24206 non-null   object \n",
      " 17  fecha_entrega         24206 non-null   float64\n",
      " 18  fecha_correccion      23877 non-null   float64\n",
      " 19  fecha_creacion_tarea  24206 non-null   float64\n",
      " 20  id_usuario            196124 non-null  object \n",
      " 21  id_curso              196124 non-null  object \n",
      " 22  nombre_curso          196124 non-null  object \n",
      " 23  legajo                196124 non-null  object \n",
      "dtypes: float64(13), int64(1), object(10)\n",
      "memory usage: 35.9+ MB\n"
     ]
    }
   ],
   "source": [
    "# analisis primario de la informacion: \n",
    "df.info()"
   ]
  },
  {
   "cell_type": "code",
   "execution_count": 6,
   "metadata": {},
   "outputs": [
    {
     "data": {
      "text/plain": [
       "dias_cursado                 0\n",
       "semestre_año                 0\n",
       "nota_final_materia           0\n",
       "fecha_mesa_epoch        189114\n",
       "nombre_examen           189114\n",
       "nota_parcial            189114\n",
       "id_tarea                170063\n",
       "nombre_de_la_tarea      170063\n",
       "fecha_creacion_tarea    170063\n",
       "vencimiento_tarea       170063\n",
       "apertura_tarea          171364\n",
       "cierre_tarea            170145\n",
       "puntos_posibles         170063\n",
       "nombre_entrega          171918\n",
       "id_entrega_tarea        171918\n",
       "puntaje                 172248\n",
       "formato_entrega         171918\n",
       "fecha_entrega           171918\n",
       "fecha_correccion        172247\n",
       "fecha_creacion_tarea    171918\n",
       "id_usuario                   0\n",
       "id_curso                     0\n",
       "nombre_curso                 0\n",
       "legajo                       0\n",
       "dtype: int64"
      ]
     },
     "execution_count": 6,
     "metadata": {},
     "output_type": "execute_result"
    }
   ],
   "source": [
    "# visualizamos nulos por columna:\n",
    "df.isnull().sum()"
   ]
  },
  {
   "cell_type": "code",
   "execution_count": 7,
   "metadata": {},
   "outputs": [],
   "source": [
    "# filtramos y exportamos las filas que tienen todas las columnas completas para luego buscar alguna relacion en un analisis aparte\n",
    "filas_completas = df.dropna()\n",
    "\n",
    "#filas_completas.to_csv('solo_filas_completas.csv')"
   ]
  },
  {
   "cell_type": "code",
   "execution_count": 8,
   "metadata": {},
   "outputs": [
    {
     "data": {
      "text/html": [
       "<div>\n",
       "<style scoped>\n",
       "    .dataframe tbody tr th:only-of-type {\n",
       "        vertical-align: middle;\n",
       "    }\n",
       "\n",
       "    .dataframe tbody tr th {\n",
       "        vertical-align: top;\n",
       "    }\n",
       "\n",
       "    .dataframe thead th {\n",
       "        text-align: right;\n",
       "    }\n",
       "</style>\n",
       "<table border=\"1\" class=\"dataframe\">\n",
       "  <thead>\n",
       "    <tr style=\"text-align: right;\">\n",
       "      <th></th>\n",
       "      <th>dias_cursado</th>\n",
       "      <th>semestre_año</th>\n",
       "      <th>nota_final_materia</th>\n",
       "      <th>fecha_mesa_epoch</th>\n",
       "      <th>nombre_examen</th>\n",
       "      <th>nota_parcial</th>\n",
       "      <th>id_tarea</th>\n",
       "      <th>nombre_de_la_tarea</th>\n",
       "      <th>fecha_creacion_tarea</th>\n",
       "      <th>vencimiento_tarea</th>\n",
       "      <th>...</th>\n",
       "      <th>id_entrega_tarea</th>\n",
       "      <th>puntaje</th>\n",
       "      <th>formato_entrega</th>\n",
       "      <th>fecha_entrega</th>\n",
       "      <th>fecha_correccion</th>\n",
       "      <th>fecha_creacion_tarea</th>\n",
       "      <th>id_usuario</th>\n",
       "      <th>id_curso</th>\n",
       "      <th>nombre_curso</th>\n",
       "      <th>legajo</th>\n",
       "    </tr>\n",
       "  </thead>\n",
       "  <tbody>\n",
       "  </tbody>\n",
       "</table>\n",
       "<p>0 rows × 24 columns</p>\n",
       "</div>"
      ],
      "text/plain": [
       "Empty DataFrame\n",
       "Columns: [dias_cursado, semestre_año, nota_final_materia, fecha_mesa_epoch, nombre_examen, nota_parcial, id_tarea, nombre_de_la_tarea, fecha_creacion_tarea, vencimiento_tarea, apertura_tarea, cierre_tarea, puntos_posibles, nombre_entrega, id_entrega_tarea, puntaje, formato_entrega, fecha_entrega, fecha_correccion, fecha_creacion_tarea, id_usuario, id_curso, nombre_curso, legajo]\n",
       "Index: []\n",
       "\n",
       "[0 rows x 24 columns]"
      ]
     },
     "execution_count": 8,
     "metadata": {},
     "output_type": "execute_result"
    }
   ],
   "source": [
    "# ver si hay filas duplicadas en el df filtrado.\n",
    "filas_completas[filas_completas.duplicated()]"
   ]
  },
  {
   "cell_type": "markdown",
   "metadata": {},
   "source": [
    "eliminamos columnas en df que son redundantes; en su mayoria son datos vacios y no aportan al analisis ya que el dato se puede extraer de otra variable.\n"
   ]
  },
  {
   "cell_type": "code",
   "execution_count": 9,
   "metadata": {},
   "outputs": [],
   "source": [
    "# columnas a eliminar: \n",
    "columns_to_drop = ['fecha_mesa_epoch', 'nombre_examen', 'nota_parcial', 'id_tarea',\n",
    "                   'nombre_de_la_tarea', 'fecha_creacion_tarea', 'vencimiento_tarea',\n",
    "                   'apertura_tarea', 'cierre_tarea', 'puntos_posibles', 'nombre_entrega',\n",
    "                   'id_entrega_tarea', 'puntaje', 'formato_entrega', 'fecha_entrega', \n",
    "                   'fecha_correccion', 'fecha_creacion_tarea']\n",
    "\n",
    "df.drop(columns=columns_to_drop, inplace=True)"
   ]
  },
  {
   "cell_type": "code",
   "execution_count": 10,
   "metadata": {},
   "outputs": [
    {
     "data": {
      "text/html": [
       "<div>\n",
       "<style scoped>\n",
       "    .dataframe tbody tr th:only-of-type {\n",
       "        vertical-align: middle;\n",
       "    }\n",
       "\n",
       "    .dataframe tbody tr th {\n",
       "        vertical-align: top;\n",
       "    }\n",
       "\n",
       "    .dataframe thead th {\n",
       "        text-align: right;\n",
       "    }\n",
       "</style>\n",
       "<table border=\"1\" class=\"dataframe\">\n",
       "  <thead>\n",
       "    <tr style=\"text-align: right;\">\n",
       "      <th></th>\n",
       "      <th>dias_cursado</th>\n",
       "      <th>semestre_año</th>\n",
       "      <th>nota_final_materia</th>\n",
       "      <th>id_usuario</th>\n",
       "      <th>id_curso</th>\n",
       "      <th>nombre_curso</th>\n",
       "      <th>legajo</th>\n",
       "    </tr>\n",
       "  </thead>\n",
       "  <tbody>\n",
       "    <tr>\n",
       "      <th>22</th>\n",
       "      <td>21</td>\n",
       "      <td>1-2022</td>\n",
       "      <td>9.0</td>\n",
       "      <td>13df535e-065c-4593-98ea-5b1e29015b7d</td>\n",
       "      <td>09614210-fce2-48bc-93e3-bc4bd441fe00</td>\n",
       "      <td>Progressive homogeneous structure</td>\n",
       "      <td>834066QFF</td>\n",
       "    </tr>\n",
       "    <tr>\n",
       "      <th>34</th>\n",
       "      <td>32</td>\n",
       "      <td>1-2022</td>\n",
       "      <td>9.0</td>\n",
       "      <td>13df535e-065c-4593-98ea-5b1e29015b7d</td>\n",
       "      <td>09614210-fce2-48bc-93e3-bc4bd441fe00</td>\n",
       "      <td>Progressive homogeneous structure</td>\n",
       "      <td>834066QFF</td>\n",
       "    </tr>\n",
       "    <tr>\n",
       "      <th>35</th>\n",
       "      <td>32</td>\n",
       "      <td>1-2022</td>\n",
       "      <td>9.0</td>\n",
       "      <td>13df535e-065c-4593-98ea-5b1e29015b7d</td>\n",
       "      <td>09614210-fce2-48bc-93e3-bc4bd441fe00</td>\n",
       "      <td>Progressive homogeneous structure</td>\n",
       "      <td>834066QFF</td>\n",
       "    </tr>\n",
       "    <tr>\n",
       "      <th>109</th>\n",
       "      <td>45</td>\n",
       "      <td>1-2022</td>\n",
       "      <td>5.0</td>\n",
       "      <td>8289fbcb-a999-4b5b-8d7e-a4ea0fe477d5</td>\n",
       "      <td>14d11dfe-01d7-4c8a-8489-59cce7e2d051</td>\n",
       "      <td>Switchable radical service-desk</td>\n",
       "      <td>730281VXM</td>\n",
       "    </tr>\n",
       "    <tr>\n",
       "      <th>120</th>\n",
       "      <td>55</td>\n",
       "      <td>1-2022</td>\n",
       "      <td>5.0</td>\n",
       "      <td>8289fbcb-a999-4b5b-8d7e-a4ea0fe477d5</td>\n",
       "      <td>14d11dfe-01d7-4c8a-8489-59cce7e2d051</td>\n",
       "      <td>Switchable radical service-desk</td>\n",
       "      <td>730281VXM</td>\n",
       "    </tr>\n",
       "    <tr>\n",
       "      <th>...</th>\n",
       "      <td>...</td>\n",
       "      <td>...</td>\n",
       "      <td>...</td>\n",
       "      <td>...</td>\n",
       "      <td>...</td>\n",
       "      <td>...</td>\n",
       "      <td>...</td>\n",
       "    </tr>\n",
       "    <tr>\n",
       "      <th>196059</th>\n",
       "      <td>59</td>\n",
       "      <td>1-2022</td>\n",
       "      <td>7.0</td>\n",
       "      <td>1f043fbc-2e51-4639-b99a-00e96f86968d</td>\n",
       "      <td>e14f5a9d-992e-4d5f-b9e2-a0c723b4219b</td>\n",
       "      <td>Cloned radical algorithm</td>\n",
       "      <td>398800TRX</td>\n",
       "    </tr>\n",
       "    <tr>\n",
       "      <th>196065</th>\n",
       "      <td>4</td>\n",
       "      <td>1-2022</td>\n",
       "      <td>10.0</td>\n",
       "      <td>1f043fbc-2e51-4639-b99a-00e96f86968d</td>\n",
       "      <td>d9cc0ef0-3282-4c10-b2c7-bc231a26ca6a</td>\n",
       "      <td>Customizable hybrid forecast</td>\n",
       "      <td>398800TRX</td>\n",
       "    </tr>\n",
       "    <tr>\n",
       "      <th>196066</th>\n",
       "      <td>4</td>\n",
       "      <td>1-2022</td>\n",
       "      <td>10.0</td>\n",
       "      <td>1f043fbc-2e51-4639-b99a-00e96f86968d</td>\n",
       "      <td>d9cc0ef0-3282-4c10-b2c7-bc231a26ca6a</td>\n",
       "      <td>Customizable hybrid forecast</td>\n",
       "      <td>398800TRX</td>\n",
       "    </tr>\n",
       "    <tr>\n",
       "      <th>196067</th>\n",
       "      <td>4</td>\n",
       "      <td>1-2022</td>\n",
       "      <td>10.0</td>\n",
       "      <td>1f043fbc-2e51-4639-b99a-00e96f86968d</td>\n",
       "      <td>d9cc0ef0-3282-4c10-b2c7-bc231a26ca6a</td>\n",
       "      <td>Customizable hybrid forecast</td>\n",
       "      <td>398800TRX</td>\n",
       "    </tr>\n",
       "    <tr>\n",
       "      <th>196094</th>\n",
       "      <td>30</td>\n",
       "      <td>1-2022</td>\n",
       "      <td>10.0</td>\n",
       "      <td>1f043fbc-2e51-4639-b99a-00e96f86968d</td>\n",
       "      <td>d9cc0ef0-3282-4c10-b2c7-bc231a26ca6a</td>\n",
       "      <td>Customizable hybrid forecast</td>\n",
       "      <td>398800TRX</td>\n",
       "    </tr>\n",
       "  </tbody>\n",
       "</table>\n",
       "<p>17984 rows × 7 columns</p>\n",
       "</div>"
      ],
      "text/plain": [
       "        dias_cursado semestre_año  nota_final_materia  \\\n",
       "22                21       1-2022                 9.0   \n",
       "34                32       1-2022                 9.0   \n",
       "35                32       1-2022                 9.0   \n",
       "109               45       1-2022                 5.0   \n",
       "120               55       1-2022                 5.0   \n",
       "...              ...          ...                 ...   \n",
       "196059            59       1-2022                 7.0   \n",
       "196065             4       1-2022                10.0   \n",
       "196066             4       1-2022                10.0   \n",
       "196067             4       1-2022                10.0   \n",
       "196094            30       1-2022                10.0   \n",
       "\n",
       "                                  id_usuario  \\\n",
       "22      13df535e-065c-4593-98ea-5b1e29015b7d   \n",
       "34      13df535e-065c-4593-98ea-5b1e29015b7d   \n",
       "35      13df535e-065c-4593-98ea-5b1e29015b7d   \n",
       "109     8289fbcb-a999-4b5b-8d7e-a4ea0fe477d5   \n",
       "120     8289fbcb-a999-4b5b-8d7e-a4ea0fe477d5   \n",
       "...                                      ...   \n",
       "196059  1f043fbc-2e51-4639-b99a-00e96f86968d   \n",
       "196065  1f043fbc-2e51-4639-b99a-00e96f86968d   \n",
       "196066  1f043fbc-2e51-4639-b99a-00e96f86968d   \n",
       "196067  1f043fbc-2e51-4639-b99a-00e96f86968d   \n",
       "196094  1f043fbc-2e51-4639-b99a-00e96f86968d   \n",
       "\n",
       "                                    id_curso  \\\n",
       "22      09614210-fce2-48bc-93e3-bc4bd441fe00   \n",
       "34      09614210-fce2-48bc-93e3-bc4bd441fe00   \n",
       "35      09614210-fce2-48bc-93e3-bc4bd441fe00   \n",
       "109     14d11dfe-01d7-4c8a-8489-59cce7e2d051   \n",
       "120     14d11dfe-01d7-4c8a-8489-59cce7e2d051   \n",
       "...                                      ...   \n",
       "196059  e14f5a9d-992e-4d5f-b9e2-a0c723b4219b   \n",
       "196065  d9cc0ef0-3282-4c10-b2c7-bc231a26ca6a   \n",
       "196066  d9cc0ef0-3282-4c10-b2c7-bc231a26ca6a   \n",
       "196067  d9cc0ef0-3282-4c10-b2c7-bc231a26ca6a   \n",
       "196094  d9cc0ef0-3282-4c10-b2c7-bc231a26ca6a   \n",
       "\n",
       "                             nombre_curso     legajo  \n",
       "22      Progressive homogeneous structure  834066QFF  \n",
       "34      Progressive homogeneous structure  834066QFF  \n",
       "35      Progressive homogeneous structure  834066QFF  \n",
       "109       Switchable radical service-desk  730281VXM  \n",
       "120       Switchable radical service-desk  730281VXM  \n",
       "...                                   ...        ...  \n",
       "196059           Cloned radical algorithm  398800TRX  \n",
       "196065       Customizable hybrid forecast  398800TRX  \n",
       "196066       Customizable hybrid forecast  398800TRX  \n",
       "196067       Customizable hybrid forecast  398800TRX  \n",
       "196094       Customizable hybrid forecast  398800TRX  \n",
       "\n",
       "[17984 rows x 7 columns]"
      ]
     },
     "execution_count": 10,
     "metadata": {},
     "output_type": "execute_result"
    }
   ],
   "source": [
    "df[df.duplicated()]"
   ]
  },
  {
   "cell_type": "markdown",
   "metadata": {},
   "source": [
    "Hay algunos registros duplicados. Esto puede indicar que algunos estudiantes han cursado el mismo curso en el mismo semestre más de una vez, o distintas \"actividades\" registradas para el mismo periodo de tiempo como se indico en el enunciado del challenge. "
   ]
  },
  {
   "cell_type": "markdown",
   "metadata": {},
   "source": [
    "Proceso EDA:"
   ]
  },
  {
   "cell_type": "code",
   "execution_count": 11,
   "metadata": {},
   "outputs": [
    {
     "data": {
      "text/html": [
       "<div>\n",
       "<style scoped>\n",
       "    .dataframe tbody tr th:only-of-type {\n",
       "        vertical-align: middle;\n",
       "    }\n",
       "\n",
       "    .dataframe tbody tr th {\n",
       "        vertical-align: top;\n",
       "    }\n",
       "\n",
       "    .dataframe thead th {\n",
       "        text-align: right;\n",
       "    }\n",
       "</style>\n",
       "<table border=\"1\" class=\"dataframe\">\n",
       "  <thead>\n",
       "    <tr style=\"text-align: right;\">\n",
       "      <th></th>\n",
       "      <th>dias_cursado</th>\n",
       "      <th>nota_final_materia</th>\n",
       "    </tr>\n",
       "  </thead>\n",
       "  <tbody>\n",
       "    <tr>\n",
       "      <th>count</th>\n",
       "      <td>196124.000000</td>\n",
       "      <td>196124.000000</td>\n",
       "    </tr>\n",
       "    <tr>\n",
       "      <th>mean</th>\n",
       "      <td>30.663891</td>\n",
       "      <td>7.546700</td>\n",
       "    </tr>\n",
       "    <tr>\n",
       "      <th>std</th>\n",
       "      <td>17.625074</td>\n",
       "      <td>1.732275</td>\n",
       "    </tr>\n",
       "    <tr>\n",
       "      <th>min</th>\n",
       "      <td>0.000000</td>\n",
       "      <td>0.000000</td>\n",
       "    </tr>\n",
       "    <tr>\n",
       "      <th>25%</th>\n",
       "      <td>15.000000</td>\n",
       "      <td>7.000000</td>\n",
       "    </tr>\n",
       "    <tr>\n",
       "      <th>50%</th>\n",
       "      <td>31.000000</td>\n",
       "      <td>8.000000</td>\n",
       "    </tr>\n",
       "    <tr>\n",
       "      <th>75%</th>\n",
       "      <td>46.000000</td>\n",
       "      <td>9.000000</td>\n",
       "    </tr>\n",
       "    <tr>\n",
       "      <th>max</th>\n",
       "      <td>59.000000</td>\n",
       "      <td>10.000000</td>\n",
       "    </tr>\n",
       "  </tbody>\n",
       "</table>\n",
       "</div>"
      ],
      "text/plain": [
       "        dias_cursado  nota_final_materia\n",
       "count  196124.000000       196124.000000\n",
       "mean       30.663891            7.546700\n",
       "std        17.625074            1.732275\n",
       "min         0.000000            0.000000\n",
       "25%        15.000000            7.000000\n",
       "50%        31.000000            8.000000\n",
       "75%        46.000000            9.000000\n",
       "max        59.000000           10.000000"
      ]
     },
     "execution_count": 11,
     "metadata": {},
     "output_type": "execute_result"
    }
   ],
   "source": [
    "# estadisticas descriptivas de las columnas numericas\n",
    "df.describe()"
   ]
  },
  {
   "cell_type": "code",
   "execution_count": 12,
   "metadata": {},
   "outputs": [
    {
     "data": {
      "text/html": [
       "<div>\n",
       "<style scoped>\n",
       "    .dataframe tbody tr th:only-of-type {\n",
       "        vertical-align: middle;\n",
       "    }\n",
       "\n",
       "    .dataframe tbody tr th {\n",
       "        vertical-align: top;\n",
       "    }\n",
       "\n",
       "    .dataframe thead th {\n",
       "        text-align: right;\n",
       "    }\n",
       "</style>\n",
       "<table border=\"1\" class=\"dataframe\">\n",
       "  <thead>\n",
       "    <tr style=\"text-align: right;\">\n",
       "      <th></th>\n",
       "      <th>semestre_año</th>\n",
       "      <th>id_usuario</th>\n",
       "      <th>id_curso</th>\n",
       "      <th>nombre_curso</th>\n",
       "      <th>legajo</th>\n",
       "    </tr>\n",
       "  </thead>\n",
       "  <tbody>\n",
       "    <tr>\n",
       "      <th>count</th>\n",
       "      <td>196124</td>\n",
       "      <td>196124</td>\n",
       "      <td>196124</td>\n",
       "      <td>196124</td>\n",
       "      <td>196124</td>\n",
       "    </tr>\n",
       "    <tr>\n",
       "      <th>unique</th>\n",
       "      <td>3</td>\n",
       "      <td>600</td>\n",
       "      <td>582</td>\n",
       "      <td>561</td>\n",
       "      <td>601</td>\n",
       "    </tr>\n",
       "    <tr>\n",
       "      <th>top</th>\n",
       "      <td>1-2022</td>\n",
       "      <td>518e8c5f-6632-450b-bcee-518807ff2e9f</td>\n",
       "      <td>2b274b15-83bb-4629-941e-fdc573af4e0b</td>\n",
       "      <td>Intuitive non-volatile ability</td>\n",
       "      <td>624097JCN</td>\n",
       "    </tr>\n",
       "    <tr>\n",
       "      <th>freq</th>\n",
       "      <td>187854</td>\n",
       "      <td>1017</td>\n",
       "      <td>11439</td>\n",
       "      <td>11439</td>\n",
       "      <td>1017</td>\n",
       "    </tr>\n",
       "  </tbody>\n",
       "</table>\n",
       "</div>"
      ],
      "text/plain": [
       "       semestre_año                            id_usuario  \\\n",
       "count        196124                                196124   \n",
       "unique            3                                   600   \n",
       "top          1-2022  518e8c5f-6632-450b-bcee-518807ff2e9f   \n",
       "freq         187854                                  1017   \n",
       "\n",
       "                                    id_curso                    nombre_curso  \\\n",
       "count                                 196124                          196124   \n",
       "unique                                   582                             561   \n",
       "top     2b274b15-83bb-4629-941e-fdc573af4e0b  Intuitive non-volatile ability   \n",
       "freq                                   11439                           11439   \n",
       "\n",
       "           legajo  \n",
       "count      196124  \n",
       "unique        601  \n",
       "top     624097JCN  \n",
       "freq         1017  "
      ]
     },
     "execution_count": 12,
     "metadata": {},
     "output_type": "execute_result"
    }
   ],
   "source": [
    "# estadisticas descriptivas de las columnas categoricas\n",
    "df.describe(include=['object'])"
   ]
  },
  {
   "cell_type": "markdown",
   "metadata": {},
   "source": [
    "* se observan inconsistencias en la columna 'semestre' dado que el año debe incluir unicamente 2 semestres y en este caso se encuentran como valores unicos 3. Se procede a estudiar los valores que contiene\n",
    "\n",
    "* 'id_curso', que refiere al identificador unico de cada curso contiene 582 valores unicos aunque existen 561 nombres de cursos por lo cual se considera incosistente y se procede a estudiar.  \n",
    "\n",
    "* la columna 'id_usuario' contiene 600 unicos registros aunque existen 601 'legajos', analizamos a continuacion."
   ]
  },
  {
   "cell_type": "code",
   "execution_count": 13,
   "metadata": {},
   "outputs": [
    {
     "data": {
      "text/plain": [
       "array(['1-2022', '01-2022', '2-2022'], dtype=object)"
      ]
     },
     "execution_count": 13,
     "metadata": {},
     "output_type": "execute_result"
    }
   ],
   "source": [
    "df['semestre_año'].unique()"
   ]
  },
  {
   "cell_type": "markdown",
   "metadata": {},
   "source": [
    "como se observa, existe el valor 01-2022 por lo que corregimos este con el indicado: 1-2022"
   ]
  },
  {
   "cell_type": "code",
   "execution_count": 14,
   "metadata": {},
   "outputs": [],
   "source": [
    "df['semestre_año'] = df['semestre_año'].str.replace('01-', '1-')"
   ]
  },
  {
   "cell_type": "code",
   "execution_count": 15,
   "metadata": {},
   "outputs": [
    {
     "data": {
      "text/plain": [
       "array(['1-2022', '2-2022'], dtype=object)"
      ]
     },
     "execution_count": 15,
     "metadata": {},
     "output_type": "execute_result"
    }
   ],
   "source": [
    "df['semestre_año'].unique()"
   ]
  },
  {
   "cell_type": "code",
   "execution_count": 16,
   "metadata": {},
   "outputs": [
    {
     "name": "stdout",
     "output_type": "stream",
     "text": [
      "cursos con multiples id: nombre_curso\n",
      "Cloned radical algorithm                             2\n",
      "Customer-focused multi-state open architecture       2\n",
      "Customer-focused optimizing attitude                 2\n",
      "Down-sized 24hour migration                          2\n",
      "Enhanced coherent conglomeration                     2\n",
      "Ergonomic needs-based support                        2\n",
      "Function-based systemic info-mediaries               2\n",
      "Implemented methodical function                      2\n",
      "Monitored fault-tolerant Graphical User Interface    5\n",
      "Optimized object-oriented challenge                  2\n",
      "Optional exuding alliance                            2\n",
      "Phased composite orchestration                       2\n",
      "Proactive fresh-thinking project                     2\n",
      "Profound eco-centric installation                    3\n",
      "Quality-focused leadingedge budgetary management     2\n",
      "Quality-focused systemic software                    2\n",
      "Stand-alone upward-trending secured line             2\n",
      "Name: id_curso, dtype: int64\n"
     ]
    }
   ],
   "source": [
    "# buscamos cursos con multiples id\n",
    "cursos_por_nombre = df.groupby('nombre_curso')['id_curso'].nunique()\n",
    "cursos_multiple_id =  cursos_por_nombre[cursos_por_nombre > 1]\n",
    "\n",
    "print('cursos con multiples id:' , cursos_multiple_id)"
   ]
  },
  {
   "cell_type": "markdown",
   "metadata": {},
   "source": [
    "* se observa que, por ejemplo, el curso 'Monitored fault-tolerant Graphical User Interface' tiene 5 id diferentes por lo que se produce una inconsistencia entre los datos y los cursos ya que se toma tal curso como si fuera otro. Esto quiere decir que existen al menos 5 usuarios que cursaron el mismo curso con id diferente. Para resolver la inconsistencia en este caso, tomamos el id_curso que mas se repite y lo asignamos a todos los usuarios. \n",
    "\n",
    "* Por otro lado, para el caso del curso 'Profound eco-centric installation' el cual cuenta con 3 id_curso, y cada usuario tiene un id_curso diferente, se toma un id_aleatorio y se normalizan todos\n",
    "\n",
    "* Finalmente para los demas casos, que tienen doble id_curso. se aplicara la misma logica\n",
    "\n",
    "Analizamos los id_curso diferentes en cada curso:"
   ]
  },
  {
   "cell_type": "code",
   "execution_count": 17,
   "metadata": {},
   "outputs": [
    {
     "name": "stdout",
     "output_type": "stream",
     "text": [
      "id_curso asociados al curso 'Monitored fault-tolerant Graphical User Interface' y sus frecuencias son:\n",
      "id_curso\n",
      "e2bf69a2-b722-427e-9dab-b03fd2c42e58    300\n",
      "d0e5e02d-0b17-46f5-9693-2040a606b858     60\n",
      "52fb613c-3227-41da-b2ca-9533318477a0     60\n",
      "5d589b98-5da6-46bf-b43d-a6f174834c51     60\n",
      "2a2a2207-20fc-46a8-aaf2-2d5af284ad38     60\n",
      "Name: count, dtype: int64\n"
     ]
    }
   ],
   "source": [
    "# filtra el df para obtener los id_curso asociados al curso especifico\n",
    "id_cursos = df.loc[df['nombre_curso'] == 'Monitored fault-tolerant Graphical User Interface', 'id_curso']\n",
    "\n",
    "# contar la frecuencia de cada id_curso dentro del subconjunto\n",
    "frecuencias = id_cursos.value_counts()\n",
    "\n",
    "# resutlados de los id_curso y sus frecuencias\n",
    "print(\"id_curso asociados al curso 'Monitored fault-tolerant Graphical User Interface' y sus frecuencias son:\")\n",
    "print(frecuencias)\n"
   ]
  },
  {
   "cell_type": "code",
   "execution_count": 18,
   "metadata": {},
   "outputs": [
    {
     "name": "stdout",
     "output_type": "stream",
     "text": [
      "Los usuarios asociados a los id_curso especificos son:\n",
      "['a6d88a6b-6301-4b52-8b78-e7c442502024'\n",
      " 'c6075a5e-f132-409b-aaa8-294554583993'\n",
      " 'ad5e973a-37dd-484e-a2a2-7eb1ddaa1947'\n",
      " '4d143e9d-a816-4c3e-9483-e3db2101a28c'\n",
      " '225053d1-37ab-466a-ba1b-93be86bca0f1'\n",
      " 'e348fb5f-859c-4170-ac43-0ca703a6ca1e'\n",
      " 'd70f5281-898b-4a1d-a46a-c23d45104b91'\n",
      " 'ca3e0d24-4417-431d-afae-3ad3f33f3526'\n",
      " 'ed4e3e5e-5c10-4187-91f7-82114442b119']\n"
     ]
    }
   ],
   "source": [
    "id_cursos_buscar = ['e2bf69a2-b722-427e-9dab-b03fd2c42e58', 'd0e5e02d-0b17-46f5-9693-2040a606b858', \n",
    "                    '52fb613c-3227-41da-b2ca-9533318477a0', '5d589b98-5da6-46bf-b43d-a6f174834c51', \n",
    "                    '2a2a2207-20fc-46a8-aaf2-2d5af284ad38']\n",
    "\n",
    "usuarios_asociados = df.loc[df['id_curso'].isin(id_cursos_buscar), 'id_usuario'].unique()\n",
    "\n",
    "print(\"Los usuarios asociados a los id_curso especificos son:\")\n",
    "print(usuarios_asociados)"
   ]
  },
  {
   "cell_type": "markdown",
   "metadata": {},
   "source": [
    "actualizamos los id_curso del curso 'Monitored fault-tolerant Graphical User Interface' con el id_curso mas frecuente e2bf69a2-b722-427e-9dab-b03fd2c42e58 para que se unifique y poder analizar posteriormente"
   ]
  },
  {
   "cell_type": "code",
   "execution_count": 19,
   "metadata": {},
   "outputs": [],
   "source": [
    "# identifico los indices donde nombre_curso es 'Monitored fault-tolerant Graphical User Interface'\n",
    "indices = df[df['nombre_curso'] == 'Monitored fault-tolerant Graphical User Interface'].index\n",
    "# actualizar todos los id_curso para esos indices tomando en cuenta el id_curso mas frecuente \n",
    "df.loc[indices, 'id_curso'] = 'e2bf69a2-b722-427e-9dab-b03fd2c42e58'"
   ]
  },
  {
   "cell_type": "code",
   "execution_count": 20,
   "metadata": {},
   "outputs": [
    {
     "data": {
      "text/html": [
       "<div>\n",
       "<style scoped>\n",
       "    .dataframe tbody tr th:only-of-type {\n",
       "        vertical-align: middle;\n",
       "    }\n",
       "\n",
       "    .dataframe tbody tr th {\n",
       "        vertical-align: top;\n",
       "    }\n",
       "\n",
       "    .dataframe thead th {\n",
       "        text-align: right;\n",
       "    }\n",
       "</style>\n",
       "<table border=\"1\" class=\"dataframe\">\n",
       "  <thead>\n",
       "    <tr style=\"text-align: right;\">\n",
       "      <th></th>\n",
       "      <th>id_curso</th>\n",
       "      <th>nombre_curso</th>\n",
       "    </tr>\n",
       "  </thead>\n",
       "  <tbody>\n",
       "    <tr>\n",
       "      <th>6452</th>\n",
       "      <td>e2bf69a2-b722-427e-9dab-b03fd2c42e58</td>\n",
       "      <td>Monitored fault-tolerant Graphical User Interface</td>\n",
       "    </tr>\n",
       "    <tr>\n",
       "      <th>6453</th>\n",
       "      <td>e2bf69a2-b722-427e-9dab-b03fd2c42e58</td>\n",
       "      <td>Monitored fault-tolerant Graphical User Interface</td>\n",
       "    </tr>\n",
       "    <tr>\n",
       "      <th>6454</th>\n",
       "      <td>e2bf69a2-b722-427e-9dab-b03fd2c42e58</td>\n",
       "      <td>Monitored fault-tolerant Graphical User Interface</td>\n",
       "    </tr>\n",
       "    <tr>\n",
       "      <th>6455</th>\n",
       "      <td>e2bf69a2-b722-427e-9dab-b03fd2c42e58</td>\n",
       "      <td>Monitored fault-tolerant Graphical User Interface</td>\n",
       "    </tr>\n",
       "    <tr>\n",
       "      <th>6456</th>\n",
       "      <td>e2bf69a2-b722-427e-9dab-b03fd2c42e58</td>\n",
       "      <td>Monitored fault-tolerant Graphical User Interface</td>\n",
       "    </tr>\n",
       "    <tr>\n",
       "      <th>...</th>\n",
       "      <td>...</td>\n",
       "      <td>...</td>\n",
       "    </tr>\n",
       "    <tr>\n",
       "      <th>185500</th>\n",
       "      <td>e2bf69a2-b722-427e-9dab-b03fd2c42e58</td>\n",
       "      <td>Monitored fault-tolerant Graphical User Interface</td>\n",
       "    </tr>\n",
       "    <tr>\n",
       "      <th>185501</th>\n",
       "      <td>e2bf69a2-b722-427e-9dab-b03fd2c42e58</td>\n",
       "      <td>Monitored fault-tolerant Graphical User Interface</td>\n",
       "    </tr>\n",
       "    <tr>\n",
       "      <th>185502</th>\n",
       "      <td>e2bf69a2-b722-427e-9dab-b03fd2c42e58</td>\n",
       "      <td>Monitored fault-tolerant Graphical User Interface</td>\n",
       "    </tr>\n",
       "    <tr>\n",
       "      <th>185503</th>\n",
       "      <td>e2bf69a2-b722-427e-9dab-b03fd2c42e58</td>\n",
       "      <td>Monitored fault-tolerant Graphical User Interface</td>\n",
       "    </tr>\n",
       "    <tr>\n",
       "      <th>185504</th>\n",
       "      <td>e2bf69a2-b722-427e-9dab-b03fd2c42e58</td>\n",
       "      <td>Monitored fault-tolerant Graphical User Interface</td>\n",
       "    </tr>\n",
       "  </tbody>\n",
       "</table>\n",
       "<p>540 rows × 2 columns</p>\n",
       "</div>"
      ],
      "text/plain": [
       "                                    id_curso  \\\n",
       "6452    e2bf69a2-b722-427e-9dab-b03fd2c42e58   \n",
       "6453    e2bf69a2-b722-427e-9dab-b03fd2c42e58   \n",
       "6454    e2bf69a2-b722-427e-9dab-b03fd2c42e58   \n",
       "6455    e2bf69a2-b722-427e-9dab-b03fd2c42e58   \n",
       "6456    e2bf69a2-b722-427e-9dab-b03fd2c42e58   \n",
       "...                                      ...   \n",
       "185500  e2bf69a2-b722-427e-9dab-b03fd2c42e58   \n",
       "185501  e2bf69a2-b722-427e-9dab-b03fd2c42e58   \n",
       "185502  e2bf69a2-b722-427e-9dab-b03fd2c42e58   \n",
       "185503  e2bf69a2-b722-427e-9dab-b03fd2c42e58   \n",
       "185504  e2bf69a2-b722-427e-9dab-b03fd2c42e58   \n",
       "\n",
       "                                             nombre_curso  \n",
       "6452    Monitored fault-tolerant Graphical User Interface  \n",
       "6453    Monitored fault-tolerant Graphical User Interface  \n",
       "6454    Monitored fault-tolerant Graphical User Interface  \n",
       "6455    Monitored fault-tolerant Graphical User Interface  \n",
       "6456    Monitored fault-tolerant Graphical User Interface  \n",
       "...                                                   ...  \n",
       "185500  Monitored fault-tolerant Graphical User Interface  \n",
       "185501  Monitored fault-tolerant Graphical User Interface  \n",
       "185502  Monitored fault-tolerant Graphical User Interface  \n",
       "185503  Monitored fault-tolerant Graphical User Interface  \n",
       "185504  Monitored fault-tolerant Graphical User Interface  \n",
       "\n",
       "[540 rows x 2 columns]"
      ]
     },
     "execution_count": 20,
     "metadata": {},
     "output_type": "execute_result"
    }
   ],
   "source": [
    "df.loc[indices, ['id_curso', 'nombre_curso']]"
   ]
  },
  {
   "cell_type": "code",
   "execution_count": 21,
   "metadata": {},
   "outputs": [
    {
     "name": "stdout",
     "output_type": "stream",
     "text": [
      "id_curso asociados al curso 'Profound eco-centric installation' y sus frecuencias son:\n",
      "id_curso\n",
      "f4fa5a74-3c94-4030-8ccd-3dfca0799c3a    60\n",
      "b0bd5452-3733-49cc-9fc1-959aedc10cc2    60\n",
      "5513d795-2162-4e22-9c1a-cd62844bb65f    60\n",
      "Name: count, dtype: int64\n"
     ]
    }
   ],
   "source": [
    "# filtra el df para obtener los id_curso asociados al curso especifico\n",
    "id_cursos_2 = df.loc[df['nombre_curso'] == 'Profound eco-centric installation', 'id_curso']\n",
    "\n",
    "# contar la frecuencia de cada id_curso dentro del subconjunto\n",
    "frecuencias2 = id_cursos_2.value_counts()\n",
    "\n",
    "# resutlados de los id_curso y sus frecuencias\n",
    "print(\"id_curso asociados al curso 'Profound eco-centric installation' y sus frecuencias son:\")\n",
    "print(frecuencias2)\n"
   ]
  },
  {
   "cell_type": "code",
   "execution_count": 22,
   "metadata": {},
   "outputs": [
    {
     "data": {
      "text/html": [
       "<div>\n",
       "<style scoped>\n",
       "    .dataframe tbody tr th:only-of-type {\n",
       "        vertical-align: middle;\n",
       "    }\n",
       "\n",
       "    .dataframe tbody tr th {\n",
       "        vertical-align: top;\n",
       "    }\n",
       "\n",
       "    .dataframe thead th {\n",
       "        text-align: right;\n",
       "    }\n",
       "</style>\n",
       "<table border=\"1\" class=\"dataframe\">\n",
       "  <thead>\n",
       "    <tr style=\"text-align: right;\">\n",
       "      <th></th>\n",
       "      <th>id_curso</th>\n",
       "      <th>nombre_curso</th>\n",
       "    </tr>\n",
       "  </thead>\n",
       "  <tbody>\n",
       "    <tr>\n",
       "      <th>6392</th>\n",
       "      <td>f4fa5a74-3c94-4030-8ccd-3dfca0799c3a</td>\n",
       "      <td>Profound eco-centric installation</td>\n",
       "    </tr>\n",
       "    <tr>\n",
       "      <th>6393</th>\n",
       "      <td>f4fa5a74-3c94-4030-8ccd-3dfca0799c3a</td>\n",
       "      <td>Profound eco-centric installation</td>\n",
       "    </tr>\n",
       "    <tr>\n",
       "      <th>6394</th>\n",
       "      <td>f4fa5a74-3c94-4030-8ccd-3dfca0799c3a</td>\n",
       "      <td>Profound eco-centric installation</td>\n",
       "    </tr>\n",
       "    <tr>\n",
       "      <th>6395</th>\n",
       "      <td>f4fa5a74-3c94-4030-8ccd-3dfca0799c3a</td>\n",
       "      <td>Profound eco-centric installation</td>\n",
       "    </tr>\n",
       "    <tr>\n",
       "      <th>6396</th>\n",
       "      <td>f4fa5a74-3c94-4030-8ccd-3dfca0799c3a</td>\n",
       "      <td>Profound eco-centric installation</td>\n",
       "    </tr>\n",
       "    <tr>\n",
       "      <th>...</th>\n",
       "      <td>...</td>\n",
       "      <td>...</td>\n",
       "    </tr>\n",
       "    <tr>\n",
       "      <th>183043</th>\n",
       "      <td>f4fa5a74-3c94-4030-8ccd-3dfca0799c3a</td>\n",
       "      <td>Profound eco-centric installation</td>\n",
       "    </tr>\n",
       "    <tr>\n",
       "      <th>183044</th>\n",
       "      <td>f4fa5a74-3c94-4030-8ccd-3dfca0799c3a</td>\n",
       "      <td>Profound eco-centric installation</td>\n",
       "    </tr>\n",
       "    <tr>\n",
       "      <th>183045</th>\n",
       "      <td>f4fa5a74-3c94-4030-8ccd-3dfca0799c3a</td>\n",
       "      <td>Profound eco-centric installation</td>\n",
       "    </tr>\n",
       "    <tr>\n",
       "      <th>183046</th>\n",
       "      <td>f4fa5a74-3c94-4030-8ccd-3dfca0799c3a</td>\n",
       "      <td>Profound eco-centric installation</td>\n",
       "    </tr>\n",
       "    <tr>\n",
       "      <th>183047</th>\n",
       "      <td>f4fa5a74-3c94-4030-8ccd-3dfca0799c3a</td>\n",
       "      <td>Profound eco-centric installation</td>\n",
       "    </tr>\n",
       "  </tbody>\n",
       "</table>\n",
       "<p>180 rows × 2 columns</p>\n",
       "</div>"
      ],
      "text/plain": [
       "                                    id_curso  \\\n",
       "6392    f4fa5a74-3c94-4030-8ccd-3dfca0799c3a   \n",
       "6393    f4fa5a74-3c94-4030-8ccd-3dfca0799c3a   \n",
       "6394    f4fa5a74-3c94-4030-8ccd-3dfca0799c3a   \n",
       "6395    f4fa5a74-3c94-4030-8ccd-3dfca0799c3a   \n",
       "6396    f4fa5a74-3c94-4030-8ccd-3dfca0799c3a   \n",
       "...                                      ...   \n",
       "183043  f4fa5a74-3c94-4030-8ccd-3dfca0799c3a   \n",
       "183044  f4fa5a74-3c94-4030-8ccd-3dfca0799c3a   \n",
       "183045  f4fa5a74-3c94-4030-8ccd-3dfca0799c3a   \n",
       "183046  f4fa5a74-3c94-4030-8ccd-3dfca0799c3a   \n",
       "183047  f4fa5a74-3c94-4030-8ccd-3dfca0799c3a   \n",
       "\n",
       "                             nombre_curso  \n",
       "6392    Profound eco-centric installation  \n",
       "6393    Profound eco-centric installation  \n",
       "6394    Profound eco-centric installation  \n",
       "6395    Profound eco-centric installation  \n",
       "6396    Profound eco-centric installation  \n",
       "...                                   ...  \n",
       "183043  Profound eco-centric installation  \n",
       "183044  Profound eco-centric installation  \n",
       "183045  Profound eco-centric installation  \n",
       "183046  Profound eco-centric installation  \n",
       "183047  Profound eco-centric installation  \n",
       "\n",
       "[180 rows x 2 columns]"
      ]
     },
     "execution_count": 22,
     "metadata": {},
     "output_type": "execute_result"
    }
   ],
   "source": [
    "# identifico los indices donde nombre_curso es 'Profound eco-centric installation'\n",
    "indices2 = df[df['nombre_curso'] == 'Profound eco-centric installation'].index\n",
    "# actualizar todos los id_curso para esos indices\n",
    "df.loc[indices2, 'id_curso'] = 'f4fa5a74-3c94-4030-8ccd-3dfca0799c3a'\n",
    "\n",
    "df.loc[indices2, ['id_curso', 'nombre_curso']]"
   ]
  },
  {
   "cell_type": "code",
   "execution_count": 23,
   "metadata": {},
   "outputs": [],
   "source": [
    "# buscamos cursos con multiples id\n",
    "cursos_por_nombre = df.groupby('nombre_curso')['id_curso'].nunique()\n",
    "cursos_multiple_id =  cursos_por_nombre[cursos_por_nombre > 1].index.tolist()\n",
    "\n",
    "for curso in cursos_multiple_id:\n",
    "    id_curso_unico = df.loc[df['nombre_curso'] == curso, 'id_curso'].iloc[0]\n",
    "    df.loc[df['nombre_curso'] == curso, 'id_curso'] = id_curso_unico\n"
   ]
  },
  {
   "cell_type": "code",
   "execution_count": 24,
   "metadata": {},
   "outputs": [
    {
     "name": "stdout",
     "output_type": "stream",
     "text": [
      "cursos con multiples id: Series([], Name: id_curso, dtype: int64)\n"
     ]
    }
   ],
   "source": [
    "# corroboramos\n",
    "cursos_por_nombre = df.groupby('nombre_curso')['id_curso'].nunique()\n",
    "cursos_multiple_id =  cursos_por_nombre[cursos_por_nombre > 1]\n",
    "\n",
    "print('cursos con multiples id:' , cursos_multiple_id)"
   ]
  },
  {
   "cell_type": "code",
   "execution_count": 25,
   "metadata": {},
   "outputs": [
    {
     "name": "stdout",
     "output_type": "stream",
     "text": [
      "id con multiple legajo: id_usuario\n",
      "9d0a3bf7-7efc-405f-bd96-60d75f6033b4    2\n",
      "Name: legajo, dtype: int64\n"
     ]
    }
   ],
   "source": [
    "# buscamos id_usuario con multiples legajos\n",
    "usuario_por_legajo = df.groupby('id_usuario')['legajo'].nunique()\n",
    "usuario_multiple_id = usuario_por_legajo[usuario_por_legajo > 1]\n",
    "\n",
    "print ('id con multiple legajo:', usuario_multiple_id)"
   ]
  },
  {
   "cell_type": "code",
   "execution_count": 26,
   "metadata": {},
   "outputs": [
    {
     "name": "stdout",
     "output_type": "stream",
     "text": [
      "El id_usuario '9d0a3bf7-7efc-405f-bd96-60d75f6033b4' tiene los siguientes legajos:\n",
      "['078920YCB' '772439OKZ']\n"
     ]
    }
   ],
   "source": [
    "# filtrar el df para el id_usuario específico\n",
    "usuario_con_multiples_legajos = df[df['id_usuario'] == '9d0a3bf7-7efc-405f-bd96-60d75f6033b4']\n",
    "\n",
    "# Ver los legajos asociados con este id_usuario\n",
    "legajos_asociados = usuario_con_multiples_legajos['legajo'].unique()\n",
    "\n",
    "print(f\"El id_usuario '9d0a3bf7-7efc-405f-bd96-60d75f6033b4' tiene los siguientes legajos:\")\n",
    "print(legajos_asociados)\n"
   ]
  },
  {
   "cell_type": "markdown",
   "metadata": {},
   "source": [
    "en este caso se observa que dos alumnos poseen el mismo id_usuario por lo que es inconsistente. Procedemos a generar otro id_usuario para uno de los legajos "
   ]
  },
  {
   "cell_type": "code",
   "execution_count": 27,
   "metadata": {},
   "outputs": [],
   "source": [
    "# generar un nuevo id_usuario\n",
    "nuevo_id_usuario = str(uuid.uuid4())\n",
    "#cambiar id_usuario al legajo 772439OKZ\n",
    "df.loc[(df['id_usuario'] == '9d0a3bf7-7efc-405f-bd96-60d75f6033b4') & (df['legajo'] == '772439OKZ'), 'id_usuario'] = nuevo_id_usuario"
   ]
  },
  {
   "cell_type": "code",
   "execution_count": 28,
   "metadata": {},
   "outputs": [
    {
     "data": {
      "text/html": [
       "<div>\n",
       "<style scoped>\n",
       "    .dataframe tbody tr th:only-of-type {\n",
       "        vertical-align: middle;\n",
       "    }\n",
       "\n",
       "    .dataframe tbody tr th {\n",
       "        vertical-align: top;\n",
       "    }\n",
       "\n",
       "    .dataframe thead th {\n",
       "        text-align: right;\n",
       "    }\n",
       "</style>\n",
       "<table border=\"1\" class=\"dataframe\">\n",
       "  <thead>\n",
       "    <tr style=\"text-align: right;\">\n",
       "      <th></th>\n",
       "      <th>semestre_año</th>\n",
       "      <th>id_usuario</th>\n",
       "      <th>id_curso</th>\n",
       "      <th>nombre_curso</th>\n",
       "      <th>legajo</th>\n",
       "    </tr>\n",
       "  </thead>\n",
       "  <tbody>\n",
       "    <tr>\n",
       "      <th>count</th>\n",
       "      <td>196124</td>\n",
       "      <td>196124</td>\n",
       "      <td>196124</td>\n",
       "      <td>196124</td>\n",
       "      <td>196124</td>\n",
       "    </tr>\n",
       "    <tr>\n",
       "      <th>unique</th>\n",
       "      <td>2</td>\n",
       "      <td>601</td>\n",
       "      <td>561</td>\n",
       "      <td>561</td>\n",
       "      <td>601</td>\n",
       "    </tr>\n",
       "    <tr>\n",
       "      <th>top</th>\n",
       "      <td>1-2022</td>\n",
       "      <td>518e8c5f-6632-450b-bcee-518807ff2e9f</td>\n",
       "      <td>2b274b15-83bb-4629-941e-fdc573af4e0b</td>\n",
       "      <td>Intuitive non-volatile ability</td>\n",
       "      <td>624097JCN</td>\n",
       "    </tr>\n",
       "    <tr>\n",
       "      <th>freq</th>\n",
       "      <td>195584</td>\n",
       "      <td>1017</td>\n",
       "      <td>11439</td>\n",
       "      <td>11439</td>\n",
       "      <td>1017</td>\n",
       "    </tr>\n",
       "  </tbody>\n",
       "</table>\n",
       "</div>"
      ],
      "text/plain": [
       "       semestre_año                            id_usuario  \\\n",
       "count        196124                                196124   \n",
       "unique            2                                   601   \n",
       "top          1-2022  518e8c5f-6632-450b-bcee-518807ff2e9f   \n",
       "freq         195584                                  1017   \n",
       "\n",
       "                                    id_curso                    nombre_curso  \\\n",
       "count                                 196124                          196124   \n",
       "unique                                   561                             561   \n",
       "top     2b274b15-83bb-4629-941e-fdc573af4e0b  Intuitive non-volatile ability   \n",
       "freq                                   11439                           11439   \n",
       "\n",
       "           legajo  \n",
       "count      196124  \n",
       "unique        601  \n",
       "top     624097JCN  \n",
       "freq         1017  "
      ]
     },
     "execution_count": 28,
     "metadata": {},
     "output_type": "execute_result"
    }
   ],
   "source": [
    "# corroboramos estadisticas descriptivas\n",
    "df.describe(include=['object'])"
   ]
  },
  {
   "cell_type": "markdown",
   "metadata": {},
   "source": [
    "Distribucion de variables: "
   ]
  },
  {
   "cell_type": "code",
   "execution_count": 29,
   "metadata": {},
   "outputs": [
    {
     "data": {
      "image/png": "[encoded data removed]",
      "text/plain": [
       "<Figure size 500x300 with 1 Axes>"
      ]
     },
     "metadata": {},
     "output_type": "display_data"
    }
   ],
   "source": [
    "# visualizar la distribucion de la nota_final_materia\n",
    "plt.figure(figsize=(5, 3))\n",
    "sns.histplot(df['nota_final_materia'], bins=30, kde=True)\n",
    "plt.title('Distribucion de nota final de la materia')\n",
    "plt.xlabel('Nota final')\n",
    "plt.ylabel('Frecuencia')\n",
    "plt.show()"
   ]
  },
  {
   "cell_type": "code",
   "execution_count": 30,
   "metadata": {},
   "outputs": [
    {
     "data": {
      "text/html": [
       "<div>\n",
       "<style scoped>\n",
       "    .dataframe tbody tr th:only-of-type {\n",
       "        vertical-align: middle;\n",
       "    }\n",
       "\n",
       "    .dataframe tbody tr th {\n",
       "        vertical-align: top;\n",
       "    }\n",
       "\n",
       "    .dataframe thead th {\n",
       "        text-align: right;\n",
       "    }\n",
       "</style>\n",
       "<table border=\"1\" class=\"dataframe\">\n",
       "  <thead>\n",
       "    <tr style=\"text-align: right;\">\n",
       "      <th></th>\n",
       "      <th>id_usuario</th>\n",
       "      <th>semestre_año</th>\n",
       "      <th>cant_cursos</th>\n",
       "    </tr>\n",
       "  </thead>\n",
       "  <tbody>\n",
       "    <tr>\n",
       "      <th>0</th>\n",
       "      <td>01103370-3046-4bc0-a8f8-85858ec0ec88</td>\n",
       "      <td>1-2022</td>\n",
       "      <td>6</td>\n",
       "    </tr>\n",
       "    <tr>\n",
       "      <th>1</th>\n",
       "      <td>01193bc4-6b73-4fab-9a63-e425a2e397dd</td>\n",
       "      <td>1-2022</td>\n",
       "      <td>7</td>\n",
       "    </tr>\n",
       "    <tr>\n",
       "      <th>2</th>\n",
       "      <td>0230ccf5-89ea-4676-b05e-c3403c7b6fd3</td>\n",
       "      <td>1-2022</td>\n",
       "      <td>6</td>\n",
       "    </tr>\n",
       "    <tr>\n",
       "      <th>3</th>\n",
       "      <td>02323a7a-120c-485d-99b1-6247a57c46e4</td>\n",
       "      <td>1-2022</td>\n",
       "      <td>4</td>\n",
       "    </tr>\n",
       "    <tr>\n",
       "      <th>4</th>\n",
       "      <td>02927207-85cf-4640-8388-e4b0352703f7</td>\n",
       "      <td>1-2022</td>\n",
       "      <td>4</td>\n",
       "    </tr>\n",
       "    <tr>\n",
       "      <th>...</th>\n",
       "      <td>...</td>\n",
       "      <td>...</td>\n",
       "      <td>...</td>\n",
       "    </tr>\n",
       "    <tr>\n",
       "      <th>605</th>\n",
       "      <td>fcdd623b-d8e1-4fe4-9fd0-e249ff021411</td>\n",
       "      <td>1-2022</td>\n",
       "      <td>2</td>\n",
       "    </tr>\n",
       "    <tr>\n",
       "      <th>606</th>\n",
       "      <td>fd3c4db8-cdfe-45e6-84c5-11e4ef5f3926</td>\n",
       "      <td>1-2022</td>\n",
       "      <td>10</td>\n",
       "    </tr>\n",
       "    <tr>\n",
       "      <th>607</th>\n",
       "      <td>fe50e90a-b0af-4d82-b982-5a7790c3c72e</td>\n",
       "      <td>1-2022</td>\n",
       "      <td>6</td>\n",
       "    </tr>\n",
       "    <tr>\n",
       "      <th>608</th>\n",
       "      <td>fe7a316e-103e-4e94-a899-6bbc5ef55fd5</td>\n",
       "      <td>1-2022</td>\n",
       "      <td>4</td>\n",
       "    </tr>\n",
       "    <tr>\n",
       "      <th>609</th>\n",
       "      <td>ff6b6af0-b7d7-42f4-821d-afd5ee6ef9a5</td>\n",
       "      <td>1-2022</td>\n",
       "      <td>6</td>\n",
       "    </tr>\n",
       "  </tbody>\n",
       "</table>\n",
       "<p>610 rows × 3 columns</p>\n",
       "</div>"
      ],
      "text/plain": [
       "                               id_usuario semestre_año  cant_cursos\n",
       "0    01103370-3046-4bc0-a8f8-85858ec0ec88       1-2022            6\n",
       "1    01193bc4-6b73-4fab-9a63-e425a2e397dd       1-2022            7\n",
       "2    0230ccf5-89ea-4676-b05e-c3403c7b6fd3       1-2022            6\n",
       "3    02323a7a-120c-485d-99b1-6247a57c46e4       1-2022            4\n",
       "4    02927207-85cf-4640-8388-e4b0352703f7       1-2022            4\n",
       "..                                    ...          ...          ...\n",
       "605  fcdd623b-d8e1-4fe4-9fd0-e249ff021411       1-2022            2\n",
       "606  fd3c4db8-cdfe-45e6-84c5-11e4ef5f3926       1-2022           10\n",
       "607  fe50e90a-b0af-4d82-b982-5a7790c3c72e       1-2022            6\n",
       "608  fe7a316e-103e-4e94-a899-6bbc5ef55fd5       1-2022            4\n",
       "609  ff6b6af0-b7d7-42f4-821d-afd5ee6ef9a5       1-2022            6\n",
       "\n",
       "[610 rows x 3 columns]"
      ]
     },
     "execution_count": 30,
     "metadata": {},
     "output_type": "execute_result"
    }
   ],
   "source": [
    "# cantidad de cursos que hizo cada alumno por semestre: \n",
    "\n",
    "cursos_por_alumno = df.groupby(['id_usuario', 'semestre_año'])['id_curso'].nunique().reset_index()\n",
    "cursos_por_alumno.columns = ['id_usuario','semestre_año','cant_cursos']\n",
    "cursos_por_alumno"
   ]
  },
  {
   "cell_type": "code",
   "execution_count": 31,
   "metadata": {},
   "outputs": [
    {
     "data": {
      "text/plain": [
       "nombre_curso\n",
       "Open-architected web-enabled parallelism    10.0\n",
       "Customizable modular protocol               10.0\n",
       "Organic eco-centric throughput              10.0\n",
       "Automated radical alliance                  10.0\n",
       "Triple-buffered holistic portal             10.0\n",
       "                                            ... \n",
       "Ergonomic context-sensitive approach         3.0\n",
       "Customizable value-added contingency         3.0\n",
       "Synergistic dynamic capability               3.0\n",
       "Proactive foreground firmware                2.0\n",
       "Optional solution-oriented support           2.0\n",
       "Name: nota_final_materia, Length: 561, dtype: float64"
      ]
     },
     "execution_count": 31,
     "metadata": {},
     "output_type": "execute_result"
    }
   ],
   "source": [
    "# analisis por curso: Promedio de notas finales por curso\n",
    "promedio_notas_por_curso = df.groupby('nombre_curso')['nota_final_materia'].mean().sort_values(ascending=False)\n",
    "promedio_notas_por_curso"
   ]
  },
  {
   "cell_type": "code",
   "execution_count": 32,
   "metadata": {},
   "outputs": [
    {
     "data": {
      "image/png": "[encoded data removed]",
      "text/plain": [
       "<Figure size 500x300 with 1 Axes>"
      ]
     },
     "metadata": {},
     "output_type": "display_data"
    }
   ],
   "source": [
    "# Seleccionar los top 5 cursos con el mejor promedio de notas finales\n",
    "top_5_cursos = promedio_notas_por_curso.head(5)\n",
    "\n",
    "# Definir una paleta de colores personalizada (evitando verdes y rojos)\n",
    "custom_colors = ['#1f77b4', '#ff7f0e', '#9467bd', '#8c564b', '#e377c2']\n",
    "\n",
    "# Crear el gráfico de barras\n",
    "plt.figure(figsize=(5, 3))\n",
    "sns.barplot(x=top_5_cursos.values, y=top_5_cursos.index, hue=custom_colors, legend = False)\n",
    "\n",
    "# Configurar el título y los ejes\n",
    "plt.title('Top 5 Cursos con el Mejor Promedio de Notas Finales')\n",
    "plt.xlabel('Promedio de Nota Final')\n",
    "plt.ylabel('Nombre del Curso')\n",
    "plt.show()"
   ]
  },
  {
   "cell_type": "code",
   "execution_count": 33,
   "metadata": {},
   "outputs": [
    {
     "name": "stdout",
     "output_type": "stream",
     "text": [
      "semestre\n",
      "01-2022    7.544221\n",
      "02-2022    8.444444\n",
      "Name: nota_final_materia, dtype: float64\n"
     ]
    }
   ],
   "source": [
    "# analisis por semestre: Promedio de notas finales por semestre\n",
    "df['semestre'] = pd.to_datetime(df['semestre_año'], format='%m-%Y').dt.strftime('%m-%Y')\n",
    "promedio_notas_por_semestre = df.groupby('semestre')['nota_final_materia'].mean()\n",
    "print(promedio_notas_por_semestre)"
   ]
  },
  {
   "cell_type": "code",
   "execution_count": 34,
   "metadata": {},
   "outputs": [
    {
     "name": "stdout",
     "output_type": "stream",
     "text": [
      "  semestre_año  cantidad\n",
      "0       1-2022    195584\n",
      "1       2-2022       540\n"
     ]
    }
   ],
   "source": [
    "# Contar la cantidad de datos por semestre\n",
    "conteo_por_semestre = df['semestre_año'].value_counts().reset_index()\n",
    "conteo_por_semestre.columns = ['semestre_año', 'cantidad']\n",
    "\n",
    "print(conteo_por_semestre)"
   ]
  },
  {
   "cell_type": "code",
   "execution_count": 35,
   "metadata": {},
   "outputs": [
    {
     "data": {
      "image/png": "[encoded data removed]",
      "text/plain": [
       "<Figure size 400x400 with 1 Axes>"
      ]
     },
     "metadata": {},
     "output_type": "display_data"
    }
   ],
   "source": [
    "# columna 'semestre_año' esté en formato de string\n",
    "df['semestre_año'] = df['semestre_año'].astype(str)\n",
    "\n",
    "#  Contar la cantidad de registros por semestre\n",
    "semestre_counts = df['semestre_año'].value_counts()\n",
    "\n",
    "# Crear el gráfico de torta\n",
    "plt.figure(figsize=(4, 4))\n",
    "plt.pie(semestre_counts, labels=semestre_counts.index, autopct='%1.1f%%', colors=sns.color_palette(\"muted\"))\n",
    "\n",
    "# Configurar el título\n",
    "plt.title('Cantidad de Datos por Semestre')\n",
    "\n",
    "# Mostrar el gráfico\n",
    "plt.show()"
   ]
  },
  {
   "cell_type": "code",
   "execution_count": 36,
   "metadata": {},
   "outputs": [
    {
     "data": {
      "text/plain": [
       "nombre_curso\n",
       "Intuitive non-volatile ability                11439\n",
       "Object-based leadingedge help-desk            10341\n",
       "Face-to-face regional concept                  4555\n",
       "Stand-alone upward-trending secured line       4262\n",
       "Total radical adapter                          3537\n",
       "                                              ...  \n",
       "Monitored regional artificial intelligence       60\n",
       "Grass-roots national middleware                  60\n",
       "Multi-channeled homogeneous policy               60\n",
       "Operative fresh-thinking knowledge user          60\n",
       "Operative systematic help-desk                   60\n",
       "Name: count, Length: 561, dtype: int64"
      ]
     },
     "execution_count": 36,
     "metadata": {},
     "output_type": "execute_result"
    }
   ],
   "source": [
    "# analisis cantidad de veces que aparece un curso \n",
    "df['nombre_curso'].value_counts()"
   ]
  },
  {
   "cell_type": "code",
   "execution_count": 37,
   "metadata": {},
   "outputs": [
    {
     "name": "stdout",
     "output_type": "stream",
     "text": [
      "Outliers en dias_cursado:\n",
      "Empty DataFrame\n",
      "Columns: [dias_cursado, semestre_año, nota_final_materia, id_usuario, id_curso, nombre_curso, legajo, semestre]\n",
      "Index: []\n",
      "\n",
      "Outliers en nota_final_materia:\n",
      "        dias_cursado semestre_año  nota_final_materia  \\\n",
      "1540               0       1-2022                 3.0   \n",
      "1541               1       1-2022                 3.0   \n",
      "1542               2       1-2022                 3.0   \n",
      "1543               3       1-2022                 3.0   \n",
      "1544               4       1-2022                 3.0   \n",
      "...              ...          ...                 ...   \n",
      "194824            57       1-2022                 3.0   \n",
      "194825            57       1-2022                 3.0   \n",
      "194826            57       1-2022                 3.0   \n",
      "194827            58       1-2022                 3.0   \n",
      "194828            59       1-2022                 3.0   \n",
      "\n",
      "                                  id_usuario  \\\n",
      "1540    840e22cf-44b4-4637-86d2-a2ca7c06e632   \n",
      "1541    840e22cf-44b4-4637-86d2-a2ca7c06e632   \n",
      "1542    840e22cf-44b4-4637-86d2-a2ca7c06e632   \n",
      "1543    840e22cf-44b4-4637-86d2-a2ca7c06e632   \n",
      "1544    840e22cf-44b4-4637-86d2-a2ca7c06e632   \n",
      "...                                      ...   \n",
      "194824  51915d87-02a5-42fc-a2bd-207962e02963   \n",
      "194825  51915d87-02a5-42fc-a2bd-207962e02963   \n",
      "194826  51915d87-02a5-42fc-a2bd-207962e02963   \n",
      "194827  51915d87-02a5-42fc-a2bd-207962e02963   \n",
      "194828  51915d87-02a5-42fc-a2bd-207962e02963   \n",
      "\n",
      "                                    id_curso  \\\n",
      "1540    70702c6e-4a91-47f8-85b9-9ed7c888fe87   \n",
      "1541    70702c6e-4a91-47f8-85b9-9ed7c888fe87   \n",
      "1542    70702c6e-4a91-47f8-85b9-9ed7c888fe87   \n",
      "1543    70702c6e-4a91-47f8-85b9-9ed7c888fe87   \n",
      "1544    70702c6e-4a91-47f8-85b9-9ed7c888fe87   \n",
      "...                                      ...   \n",
      "194824  c78af3b4-4574-4a82-8c41-45195ce43384   \n",
      "194825  c78af3b4-4574-4a82-8c41-45195ce43384   \n",
      "194826  c78af3b4-4574-4a82-8c41-45195ce43384   \n",
      "194827  c78af3b4-4574-4a82-8c41-45195ce43384   \n",
      "194828  c78af3b4-4574-4a82-8c41-45195ce43384   \n",
      "\n",
      "                                    nombre_curso     legajo semestre  \n",
      "1540    Multi-channeled user-facing architecture  101513UNA  01-2022  \n",
      "1541    Multi-channeled user-facing architecture  101513UNA  01-2022  \n",
      "1542    Multi-channeled user-facing architecture  101513UNA  01-2022  \n",
      "1543    Multi-channeled user-facing architecture  101513UNA  01-2022  \n",
      "1544    Multi-channeled user-facing architecture  101513UNA  01-2022  \n",
      "...                                          ...        ...      ...  \n",
      "194824        Object-based leadingedge help-desk  313925KII  01-2022  \n",
      "194825        Object-based leadingedge help-desk  313925KII  01-2022  \n",
      "194826        Object-based leadingedge help-desk  313925KII  01-2022  \n",
      "194827        Object-based leadingedge help-desk  313925KII  01-2022  \n",
      "194828        Object-based leadingedge help-desk  313925KII  01-2022  \n",
      "\n",
      "[6037 rows x 8 columns]\n"
     ]
    }
   ],
   "source": [
    "# Calcular el IQR para dias_cursado y nota_final_materia\n",
    "Q1_dias_cursado = df['dias_cursado'].quantile(0.25)\n",
    "Q3_dias_cursado = df['dias_cursado'].quantile(0.75)\n",
    "IQR_dias_cursado = Q3_dias_cursado - Q1_dias_cursado\n",
    "\n",
    "Q1_nota_final_materia = df['nota_final_materia'].quantile(0.25)\n",
    "Q3_nota_final_materia = df['nota_final_materia'].quantile(0.75)\n",
    "IQR_nota_final_materia = Q3_nota_final_materia - Q1_nota_final_materia\n",
    "\n",
    "# Definir límites para outliers\n",
    "lower_bound_dias_cursado = Q1_dias_cursado - 1.5 * IQR_dias_cursado\n",
    "upper_bound_dias_cursado = Q3_dias_cursado + 1.5 * IQR_dias_cursado\n",
    "\n",
    "lower_bound_nota_final_materia = Q1_nota_final_materia - 1.5 * IQR_nota_final_materia\n",
    "upper_bound_nota_final_materia = Q3_nota_final_materia + 1.5 * IQR_nota_final_materia\n",
    "\n",
    "# Filtrar outliers\n",
    "outliers_dias_cursado = df[(df['dias_cursado'] < lower_bound_dias_cursado) | (df['dias_cursado'] > upper_bound_dias_cursado)]\n",
    "outliers_nota_final_materia = df[(df['nota_final_materia'] < lower_bound_nota_final_materia) | (df['nota_final_materia'] > upper_bound_nota_final_materia)]\n",
    "\n",
    "print(\"Outliers en dias_cursado:\")\n",
    "print(outliers_dias_cursado)\n",
    "\n",
    "print(\"\\nOutliers en nota_final_materia:\")\n",
    "print(outliers_nota_final_materia)"
   ]
  },
  {
   "cell_type": "code",
   "execution_count": 38,
   "metadata": {},
   "outputs": [
    {
     "data": {
      "image/png": "[encoded data removed]",
      "text/plain": [
       "<Figure size 500x300 with 1 Axes>"
      ]
     },
     "metadata": {},
     "output_type": "display_data"
    },
    {
     "data": {
      "image/png": "[encoded data removed]",
      "text/plain": [
       "<Figure size 500x300 with 1 Axes>"
      ]
     },
     "metadata": {},
     "output_type": "display_data"
    }
   ],
   "source": [
    "# estilo de los graficos\n",
    "sns.set_theme(style=\"whitegrid\")\n",
    "\n",
    "# boxplot para 'dias_cursado'\n",
    "plt.figure(figsize=(5, 3))\n",
    "sns.boxplot(x='dias_cursado', data=df)\n",
    "plt.title('Boxplot de Dias Cursado')\n",
    "plt.show()\n",
    "\n",
    "# boxplot para 'nota_final_materia'\n",
    "plt.figure(figsize=(5, 3))\n",
    "sns.boxplot(x='nota_final_materia', data=df)\n",
    "plt.title('Boxplot de Nota Final Materia')\n",
    "plt.show()"
   ]
  },
  {
   "cell_type": "code",
   "execution_count": 39,
   "metadata": {},
   "outputs": [
    {
     "name": "stdout",
     "output_type": "stream",
     "text": [
      "Cantidad de estudiantes con nota 0: 318\n",
      "Cantidad de estudiantes con nota 2: 1418\n",
      "Cantidad de estudiantes con nota 3: 4301\n"
     ]
    }
   ],
   "source": [
    "# Filtrar el df para encontrar las filas donde la nota final es 0,2,3\n",
    "estudiantes_nota_0 = df[df['nota_final_materia'] == 0]\n",
    "estudiantes_nota_2 = df[df['nota_final_materia'] == 2]\n",
    "estudiantes_nota_3 = df[df['nota_final_materia'] == 3]\n",
    "\n",
    "# Contar la cantidad de estudiantes con nota 0,2,3\n",
    "cantidad_estudiantes_nota_0 = estudiantes_nota_0.shape[0]\n",
    "cantidad_estudiantes_nota_2 = estudiantes_nota_2.shape[0]\n",
    "cantidad_estudiantes_nota_3 = estudiantes_nota_3.shape[0]\n",
    "print(f'Cantidad de estudiantes con nota 0: {cantidad_estudiantes_nota_0}')\n",
    "print(f'Cantidad de estudiantes con nota 2: {cantidad_estudiantes_nota_2}')\n",
    "print(f'Cantidad de estudiantes con nota 3: {cantidad_estudiantes_nota_3}')"
   ]
  },
  {
   "cell_type": "code",
   "execution_count": 40,
   "metadata": {},
   "outputs": [
    {
     "data": {
      "text/html": [
       "<div>\n",
       "<style scoped>\n",
       "    .dataframe tbody tr th:only-of-type {\n",
       "        vertical-align: middle;\n",
       "    }\n",
       "\n",
       "    .dataframe tbody tr th {\n",
       "        vertical-align: top;\n",
       "    }\n",
       "\n",
       "    .dataframe thead th {\n",
       "        text-align: right;\n",
       "    }\n",
       "</style>\n",
       "<table border=\"1\" class=\"dataframe\">\n",
       "  <thead>\n",
       "    <tr style=\"text-align: right;\">\n",
       "      <th></th>\n",
       "      <th>dias_cursado</th>\n",
       "      <th>semestre_año</th>\n",
       "      <th>nota_final_materia</th>\n",
       "      <th>id_usuario</th>\n",
       "      <th>id_curso</th>\n",
       "      <th>nombre_curso</th>\n",
       "      <th>legajo</th>\n",
       "      <th>semestre</th>\n",
       "    </tr>\n",
       "  </thead>\n",
       "  <tbody>\n",
       "    <tr>\n",
       "      <th>1540</th>\n",
       "      <td>0</td>\n",
       "      <td>1-2022</td>\n",
       "      <td>3.0</td>\n",
       "      <td>840e22cf-44b4-4637-86d2-a2ca7c06e632</td>\n",
       "      <td>70702c6e-4a91-47f8-85b9-9ed7c888fe87</td>\n",
       "      <td>Multi-channeled user-facing architecture</td>\n",
       "      <td>101513UNA</td>\n",
       "      <td>01-2022</td>\n",
       "    </tr>\n",
       "    <tr>\n",
       "      <th>1541</th>\n",
       "      <td>1</td>\n",
       "      <td>1-2022</td>\n",
       "      <td>3.0</td>\n",
       "      <td>840e22cf-44b4-4637-86d2-a2ca7c06e632</td>\n",
       "      <td>70702c6e-4a91-47f8-85b9-9ed7c888fe87</td>\n",
       "      <td>Multi-channeled user-facing architecture</td>\n",
       "      <td>101513UNA</td>\n",
       "      <td>01-2022</td>\n",
       "    </tr>\n",
       "    <tr>\n",
       "      <th>1542</th>\n",
       "      <td>2</td>\n",
       "      <td>1-2022</td>\n",
       "      <td>3.0</td>\n",
       "      <td>840e22cf-44b4-4637-86d2-a2ca7c06e632</td>\n",
       "      <td>70702c6e-4a91-47f8-85b9-9ed7c888fe87</td>\n",
       "      <td>Multi-channeled user-facing architecture</td>\n",
       "      <td>101513UNA</td>\n",
       "      <td>01-2022</td>\n",
       "    </tr>\n",
       "    <tr>\n",
       "      <th>1543</th>\n",
       "      <td>3</td>\n",
       "      <td>1-2022</td>\n",
       "      <td>3.0</td>\n",
       "      <td>840e22cf-44b4-4637-86d2-a2ca7c06e632</td>\n",
       "      <td>70702c6e-4a91-47f8-85b9-9ed7c888fe87</td>\n",
       "      <td>Multi-channeled user-facing architecture</td>\n",
       "      <td>101513UNA</td>\n",
       "      <td>01-2022</td>\n",
       "    </tr>\n",
       "    <tr>\n",
       "      <th>1544</th>\n",
       "      <td>4</td>\n",
       "      <td>1-2022</td>\n",
       "      <td>3.0</td>\n",
       "      <td>840e22cf-44b4-4637-86d2-a2ca7c06e632</td>\n",
       "      <td>70702c6e-4a91-47f8-85b9-9ed7c888fe87</td>\n",
       "      <td>Multi-channeled user-facing architecture</td>\n",
       "      <td>101513UNA</td>\n",
       "      <td>01-2022</td>\n",
       "    </tr>\n",
       "    <tr>\n",
       "      <th>...</th>\n",
       "      <td>...</td>\n",
       "      <td>...</td>\n",
       "      <td>...</td>\n",
       "      <td>...</td>\n",
       "      <td>...</td>\n",
       "      <td>...</td>\n",
       "      <td>...</td>\n",
       "      <td>...</td>\n",
       "    </tr>\n",
       "    <tr>\n",
       "      <th>194824</th>\n",
       "      <td>57</td>\n",
       "      <td>1-2022</td>\n",
       "      <td>3.0</td>\n",
       "      <td>51915d87-02a5-42fc-a2bd-207962e02963</td>\n",
       "      <td>c78af3b4-4574-4a82-8c41-45195ce43384</td>\n",
       "      <td>Object-based leadingedge help-desk</td>\n",
       "      <td>313925KII</td>\n",
       "      <td>01-2022</td>\n",
       "    </tr>\n",
       "    <tr>\n",
       "      <th>194825</th>\n",
       "      <td>57</td>\n",
       "      <td>1-2022</td>\n",
       "      <td>3.0</td>\n",
       "      <td>51915d87-02a5-42fc-a2bd-207962e02963</td>\n",
       "      <td>c78af3b4-4574-4a82-8c41-45195ce43384</td>\n",
       "      <td>Object-based leadingedge help-desk</td>\n",
       "      <td>313925KII</td>\n",
       "      <td>01-2022</td>\n",
       "    </tr>\n",
       "    <tr>\n",
       "      <th>194826</th>\n",
       "      <td>57</td>\n",
       "      <td>1-2022</td>\n",
       "      <td>3.0</td>\n",
       "      <td>51915d87-02a5-42fc-a2bd-207962e02963</td>\n",
       "      <td>c78af3b4-4574-4a82-8c41-45195ce43384</td>\n",
       "      <td>Object-based leadingedge help-desk</td>\n",
       "      <td>313925KII</td>\n",
       "      <td>01-2022</td>\n",
       "    </tr>\n",
       "    <tr>\n",
       "      <th>194827</th>\n",
       "      <td>58</td>\n",
       "      <td>1-2022</td>\n",
       "      <td>3.0</td>\n",
       "      <td>51915d87-02a5-42fc-a2bd-207962e02963</td>\n",
       "      <td>c78af3b4-4574-4a82-8c41-45195ce43384</td>\n",
       "      <td>Object-based leadingedge help-desk</td>\n",
       "      <td>313925KII</td>\n",
       "      <td>01-2022</td>\n",
       "    </tr>\n",
       "    <tr>\n",
       "      <th>194828</th>\n",
       "      <td>59</td>\n",
       "      <td>1-2022</td>\n",
       "      <td>3.0</td>\n",
       "      <td>51915d87-02a5-42fc-a2bd-207962e02963</td>\n",
       "      <td>c78af3b4-4574-4a82-8c41-45195ce43384</td>\n",
       "      <td>Object-based leadingedge help-desk</td>\n",
       "      <td>313925KII</td>\n",
       "      <td>01-2022</td>\n",
       "    </tr>\n",
       "  </tbody>\n",
       "</table>\n",
       "<p>6037 rows × 8 columns</p>\n",
       "</div>"
      ],
      "text/plain": [
       "        dias_cursado semestre_año  nota_final_materia  \\\n",
       "1540               0       1-2022                 3.0   \n",
       "1541               1       1-2022                 3.0   \n",
       "1542               2       1-2022                 3.0   \n",
       "1543               3       1-2022                 3.0   \n",
       "1544               4       1-2022                 3.0   \n",
       "...              ...          ...                 ...   \n",
       "194824            57       1-2022                 3.0   \n",
       "194825            57       1-2022                 3.0   \n",
       "194826            57       1-2022                 3.0   \n",
       "194827            58       1-2022                 3.0   \n",
       "194828            59       1-2022                 3.0   \n",
       "\n",
       "                                  id_usuario  \\\n",
       "1540    840e22cf-44b4-4637-86d2-a2ca7c06e632   \n",
       "1541    840e22cf-44b4-4637-86d2-a2ca7c06e632   \n",
       "1542    840e22cf-44b4-4637-86d2-a2ca7c06e632   \n",
       "1543    840e22cf-44b4-4637-86d2-a2ca7c06e632   \n",
       "1544    840e22cf-44b4-4637-86d2-a2ca7c06e632   \n",
       "...                                      ...   \n",
       "194824  51915d87-02a5-42fc-a2bd-207962e02963   \n",
       "194825  51915d87-02a5-42fc-a2bd-207962e02963   \n",
       "194826  51915d87-02a5-42fc-a2bd-207962e02963   \n",
       "194827  51915d87-02a5-42fc-a2bd-207962e02963   \n",
       "194828  51915d87-02a5-42fc-a2bd-207962e02963   \n",
       "\n",
       "                                    id_curso  \\\n",
       "1540    70702c6e-4a91-47f8-85b9-9ed7c888fe87   \n",
       "1541    70702c6e-4a91-47f8-85b9-9ed7c888fe87   \n",
       "1542    70702c6e-4a91-47f8-85b9-9ed7c888fe87   \n",
       "1543    70702c6e-4a91-47f8-85b9-9ed7c888fe87   \n",
       "1544    70702c6e-4a91-47f8-85b9-9ed7c888fe87   \n",
       "...                                      ...   \n",
       "194824  c78af3b4-4574-4a82-8c41-45195ce43384   \n",
       "194825  c78af3b4-4574-4a82-8c41-45195ce43384   \n",
       "194826  c78af3b4-4574-4a82-8c41-45195ce43384   \n",
       "194827  c78af3b4-4574-4a82-8c41-45195ce43384   \n",
       "194828  c78af3b4-4574-4a82-8c41-45195ce43384   \n",
       "\n",
       "                                    nombre_curso     legajo semestre  \n",
       "1540    Multi-channeled user-facing architecture  101513UNA  01-2022  \n",
       "1541    Multi-channeled user-facing architecture  101513UNA  01-2022  \n",
       "1542    Multi-channeled user-facing architecture  101513UNA  01-2022  \n",
       "1543    Multi-channeled user-facing architecture  101513UNA  01-2022  \n",
       "1544    Multi-channeled user-facing architecture  101513UNA  01-2022  \n",
       "...                                          ...        ...      ...  \n",
       "194824        Object-based leadingedge help-desk  313925KII  01-2022  \n",
       "194825        Object-based leadingedge help-desk  313925KII  01-2022  \n",
       "194826        Object-based leadingedge help-desk  313925KII  01-2022  \n",
       "194827        Object-based leadingedge help-desk  313925KII  01-2022  \n",
       "194828        Object-based leadingedge help-desk  313925KII  01-2022  \n",
       "\n",
       "[6037 rows x 8 columns]"
      ]
     },
     "execution_count": 40,
     "metadata": {},
     "output_type": "execute_result"
    }
   ],
   "source": [
    "# cinco cursos con las notas promedio mas bajas\n",
    "peores_cursos = df[(df['nota_final_materia'] >= 0) & (df['nota_final_materia'] <= 3)]\n",
    "peores_cursos\n"
   ]
  },
  {
   "cell_type": "markdown",
   "metadata": {},
   "source": [
    "Top cinco peores cursos:"
   ]
  },
  {
   "cell_type": "code",
   "execution_count": 41,
   "metadata": {},
   "outputs": [
    {
     "data": {
      "text/html": [
       "<div>\n",
       "<style scoped>\n",
       "    .dataframe tbody tr th:only-of-type {\n",
       "        vertical-align: middle;\n",
       "    }\n",
       "\n",
       "    .dataframe tbody tr th {\n",
       "        vertical-align: top;\n",
       "    }\n",
       "\n",
       "    .dataframe thead th {\n",
       "        text-align: right;\n",
       "    }\n",
       "</style>\n",
       "<table border=\"1\" class=\"dataframe\">\n",
       "  <thead>\n",
       "    <tr style=\"text-align: right;\">\n",
       "      <th></th>\n",
       "      <th>nombre_curso</th>\n",
       "      <th>nota_final_materia</th>\n",
       "    </tr>\n",
       "  </thead>\n",
       "  <tbody>\n",
       "    <tr>\n",
       "      <th>28</th>\n",
       "      <td>Multi-channeled radical moratorium</td>\n",
       "      <td>0.000000</td>\n",
       "    </tr>\n",
       "    <tr>\n",
       "      <th>40</th>\n",
       "      <td>Proactive tangible paradigm</td>\n",
       "      <td>0.000000</td>\n",
       "    </tr>\n",
       "    <tr>\n",
       "      <th>11</th>\n",
       "      <td>Digitized actuating moderator</td>\n",
       "      <td>0.000000</td>\n",
       "    </tr>\n",
       "    <tr>\n",
       "      <th>17</th>\n",
       "      <td>Face-to-face incremental instruction set</td>\n",
       "      <td>1.994505</td>\n",
       "    </tr>\n",
       "    <tr>\n",
       "      <th>0</th>\n",
       "      <td>Adaptive heuristic framework</td>\n",
       "      <td>2.000000</td>\n",
       "    </tr>\n",
       "  </tbody>\n",
       "</table>\n",
       "</div>"
      ],
      "text/plain": [
       "                                nombre_curso  nota_final_materia\n",
       "28        Multi-channeled radical moratorium            0.000000\n",
       "40               Proactive tangible paradigm            0.000000\n",
       "11             Digitized actuating moderator            0.000000\n",
       "17  Face-to-face incremental instruction set            1.994505\n",
       "0               Adaptive heuristic framework            2.000000"
      ]
     },
     "execution_count": 41,
     "metadata": {},
     "output_type": "execute_result"
    }
   ],
   "source": [
    "promedio_notas_curso = peores_cursos.groupby('nombre_curso')['nota_final_materia'].mean().reset_index()\n",
    "\n",
    "# Ordenar los cursos por la nota promedio de manera ascendente\n",
    "promedio_notas_curso_ordenado = promedio_notas_curso.sort_values(by='nota_final_materia', ascending=True)\n",
    "\n",
    "# Seleccionar los primeros 5 cursos con las peores notas promedio\n",
    "top_5_peores_cursos = promedio_notas_curso_ordenado.head(5)\n",
    "\n",
    "top_5_peores_cursos"
   ]
  },
  {
   "cell_type": "code",
   "execution_count": 42,
   "metadata": {},
   "outputs": [
    {
     "name": "stdout",
     "output_type": "stream",
     "text": [
      "maximo 11439\n",
      "minimo 60\n"
     ]
    }
   ],
   "source": [
    "# Contar registros por curso\n",
    "registros_por_curso = df.groupby('nombre_curso').size()\n",
    "\n",
    "# Encontrar maximo y minimo de registros por curso\n",
    "maximo_registros = registros_por_curso.max()\n",
    "minimo_registros = registros_por_curso.min()\n",
    "\n",
    "print('maximo', maximo_registros)\n",
    "print('minimo', minimo_registros)"
   ]
  },
  {
   "cell_type": "markdown",
   "metadata": {},
   "source": [
    "prueba estadistica ANOVA para comparar las medias de notas finales entre cursos\n",
    "\n",
    "se decide estudiar aquellos cursos con mas de 200 registros existentes para tomar aquellos mas cursados, teniendo en cuenta que el minimo son 60 registros por curso."
   ]
  },
  {
   "cell_type": "code",
   "execution_count": 43,
   "metadata": {},
   "outputs": [
    {
     "name": "stdout",
     "output_type": "stream",
     "text": [
      "Resultado del ANOVA:\n",
      "F-value: 190.46757564464602\n",
      "p-value: 0.0\n"
     ]
    }
   ],
   "source": [
    "# filtro los datos para eliminar cursos con pocos registros (>200)\n",
    "cursos_frecuentes = df['nombre_curso'].value_counts().index[df['nombre_curso'].value_counts() > 200]\n",
    "df_filtrado = df[df['nombre_curso'].isin(cursos_frecuentes)]\n",
    "\n",
    "# Hipótesis Nula (H0):  establece que no hay diferencias significativas entre las medias de las notas finales de los diferentes cursos.\n",
    "\n",
    "# Con un valor p bajo, generalmente se rechaza la hipótesis nula (H0).  significa que hay evidencia estadística \n",
    "# significativa para afirmar que al menos uno de los cursos tiene una media de notas finales significativamente diferente de los otros cursos.\n",
    "\n",
    "# test ANOVA\n",
    "resultado_anova = stats.f_oneway(*[df_filtrado[df_filtrado['nombre_curso'] == curso]['nota_final_materia'] # * es una forma de desempaquetar la lista de muestras en argumentos individuales. Es necesario para que stats.f_oneway() pueda interpretar correctamente cada muestra como un argumento separado.\n",
    "                                for curso in cursos_frecuentes]) \n",
    "\n",
    "print(\"Resultado del ANOVA:\")\n",
    "print(f\"F-value: {resultado_anova.statistic}\")\n",
    "print(f\"p-value: {resultado_anova.pvalue}\")"
   ]
  },
  {
   "cell_type": "code",
   "execution_count": 44,
   "metadata": {},
   "outputs": [
    {
     "name": "stdout",
     "output_type": "stream",
     "text": [
      "Resultado del ANOVA  todo el dataframe:\n",
      "F-value: 130.12513452299478\n",
      "p-value: 0.0\n"
     ]
    }
   ],
   "source": [
    "# test ANOVA df completo\n",
    "resultado_anova = stats.f_oneway(*[df[df['nombre_curso'] == curso]['nota_final_materia'] for curso in df['nombre_curso'].unique()])\n",
    "\n",
    "# Mostrar el resultado\n",
    "print(\"Resultado del ANOVA  todo el dataframe:\")\n",
    "print(f\"F-value: {resultado_anova.statistic}\")\n",
    "print(f\"p-value: {resultado_anova.pvalue}\")"
   ]
  },
  {
   "cell_type": "markdown",
   "metadata": {},
   "source": [
    "Segun los resultados arrojados por la prueba ANOVA, tanto para los cursos con mayor cantidad de registros, como para el total, se observa un pvaleu de 0.0 y un fvalue grande en ambas pruebas; lo que indica que se rechaza la H0 y se concluye que existen diferencias significativas entre las medias, esto quiere decir que el curso en el que un estudiante se encuentra matriculado tiene un impacto significativo en su rendimiento academico segun lo medido por las notas finales. "
   ]
  },
  {
   "cell_type": "markdown",
   "metadata": {},
   "source": [
    "---"
   ]
  },
  {
   "cell_type": "markdown",
   "metadata": {},
   "source": [
    "Luego del analisis de los datos y la limpieza de los mismos, con una importante eliminacion de valores nulos, se sugiere en este caso crear en un futuro una variable (o caracteristica) nueva como la 'edad', a partir del legajo del estudiante para luego poder analizar si este factor influye o no dentro de las notas finales de cada materia y la participacion en determinados cursos que eligen. \n",
    "\n",
    "Considerando que no se conoce con certeza si el legajo es como en Argentina, un identificador unico de cada persona, no se analiza la edad posible del alumno ni tampoco se desarrolla un modelo predictivo a partir de ella"
   ]
  },
  {
   "cell_type": "code",
   "execution_count": 46,
   "metadata": {},
   "outputs": [],
   "source": [
    "df.to_csv('data_clean.csv')"
   ]
  }
 ],
 "metadata": {
  "kernelspec": {
   "display_name": "Python 3",
   "language": "python",
   "name": "python3"
  },
  "language_info": {
   "codemirror_mode": {
    "name": "ipython",
    "version": 3
   },
   "file_extension": ".py",
   "mimetype": "text/x-python",
   "name": "python",
   "nbconvert_exporter": "python",
   "pygments_lexer": "ipython3",
   "version": "3.10.11"
  }
 },
 "nbformat": 4,
 "nbformat_minor": 2
}
